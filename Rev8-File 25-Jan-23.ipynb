{
 "cells": [
  {
   "cell_type": "markdown",
   "metadata": {},
   "source": [
    "# File \n",
    "file_object  = open(\"filename\", \"mode\")"
   ]
  },
  {
   "cell_type": "markdown",
   "metadata": {},
   "source": [
    "Method\tDescription\n",
    "close()\t    Closes the file  \n",
    "detach()\tReturns the separated raw stream from the buffer  \n",
    "fileno()\tReturns a number that represents the stream, from the operating system's perspective  \n",
    "flush()\t    Flushes the internal buffer  \n",
    "isatty()\tReturns whether the file stream is interactive or not\n",
    "read()\t    Returns the file content\n",
    "readable()\tReturns whether the file stream can be read or not\n",
    "readline()\tReturns one line from the file\n",
    "readlines()\tReturns a list of lines from the file\n",
    "seek()\t    Change the file position\n",
    "seekable()\tReturns whether the file allows us to change the file position  \n",
    "tell()\t    Returns the current file position\n",
    "truncate()\tResizes the file to a specified size\n",
    "writable()\tReturns whether the file can be written to or not\n",
    "write()\t    Writes the specified string to the file\n",
    "writelines()\tWrites a list of strings to the file"
   ]
  },
  {
   "cell_type": "code",
   "execution_count": null,
   "metadata": {},
   "outputs": [],
   "source": [
    "f = open(\"demofile.txt\")\n",
    "f = open(\"demofile.txt\", \"rt\")\n",
    "\n",
    "\n",
    "# Read Only Parts of the File\n",
    "f = open(\"demofile.txt\", \"r\")\n",
    "print(f.read(5))\n",
    "\n",
    "# Delete File\n",
    "import os\n",
    "os.remove(\"demofile.txt\")\n",
    "\n",
    "# Check if File exist & Delete File\n",
    "import os\n",
    "if os.path.exists(\"demofile.txt\"):\n",
    "  os.remove(\"demofile.txt\")\n",
    "else:\n",
    "  print(\"The file does not exist\")\n",
    "\n",
    "# Delete Folder\n",
    "import os\n",
    "os.rmdir(\"myfolder\")"
   ]
  },
  {
   "cell_type": "code",
   "execution_count": 76,
   "metadata": {},
   "outputs": [
    {
     "name": "stdout",
     "output_type": "stream",
     "text": [
      " Volume in drive C is Windows\n",
      " Volume Serial Number is 3253-6492\n",
      "\n",
      " Directory of c:\\Users\\rakes\\OneDrive\\Documents\\Behaviour\\FSDS iN\\DS - Copy\\Revision\n",
      "\n",
      "25-01-2023  08:51    <DIR>          .\n",
      "22-01-2023  13:23    <DIR>          ..\n",
      "02-08-2022  11:52            43,750 Rev1-Pyhton 1_2-Aug-22.ipynb\n",
      "03-08-2022  11:04            70,938 Rev2-Pyhton 2_3-Aug-22.ipynb\n",
      "05-08-2022  20:04            22,383 Rev3-Python 3-Aug-22.ipynb\n",
      "05-08-2022  21:58            26,730 Rev4-5-Aug-22.ipynb\n",
      "08-08-2022  12:56         1,149,375 Rev5-While loop, fn, import 6-8-Aug-22.ipynb\n",
      "12-08-2022  17:43            36,749 Rev6-Fn-2 12-Aug-22.ipynb\n",
      "25-01-2023  08:50                 0 Rev7-Itr_Gen_File 25-Jan-23.ipynb\n",
      "               7 File(s)      1,349,925 bytes\n",
      "               2 Dir(s)  170,046,062,592 bytes free\n"
     ]
    }
   ],
   "source": [
    "ls"
   ]
  },
  {
   "cell_type": "code",
   "execution_count": 77,
   "metadata": {},
   "outputs": [
    {
     "ename": "NameError",
     "evalue": "name 'ls' is not defined",
     "output_type": "error",
     "traceback": [
      "\u001b[1;31m---------------------------------------------------------------------------\u001b[0m",
      "\u001b[1;31mNameError\u001b[0m                                 Traceback (most recent call last)",
      "Cell \u001b[1;32mIn[77], line 1\u001b[0m\n\u001b[1;32m----> 1\u001b[0m \u001b[39mtype\u001b[39m(ls)\n",
      "\u001b[1;31mNameError\u001b[0m: name 'ls' is not defined"
     ]
    }
   ],
   "source": [
    "type(ls)"
   ]
  },
  {
   "cell_type": "code",
   "execution_count": 79,
   "metadata": {},
   "outputs": [
    {
     "name": "stdout",
     "output_type": "stream",
     "text": [
      "C:\\Users\\rakes\n"
     ]
    }
   ],
   "source": [
    "cd"
   ]
  },
  {
   "cell_type": "code",
   "execution_count": 80,
   "metadata": {},
   "outputs": [],
   "source": [
    "f=open(\"file1.txt\",'w')"
   ]
  },
  {
   "cell_type": "code",
   "execution_count": 85,
   "metadata": {},
   "outputs": [
    {
     "ename": "SyntaxError",
     "evalue": "(unicode error) 'unicodeescape' codec can't decode bytes in position 61-62: truncated \\UXXXXXXXX escape (2692970528.py, line 4)",
     "output_type": "error",
     "traceback": [
      "\u001b[1;36m  Cell \u001b[1;32mIn[85], line 4\u001b[1;36m\u001b[0m\n\u001b[1;33m    f.write(\"this is the output of writing the following code- f=open(r'C:\\Users\\rakes\\OneDrive\\Documents\\Behaviour\\FSDS iN\\DS - Copy\\Revision\\Rev7_File.txt','w')\",/n, \"f=write(\".....\")\", /n, \"f.close()\")\u001b[0m\n\u001b[1;37m                                                                                                                                                                   ^\u001b[0m\n\u001b[1;31mSyntaxError\u001b[0m\u001b[1;31m:\u001b[0m (unicode error) 'unicodeescape' codec can't decode bytes in position 61-62: truncated \\UXXXXXXXX escape\n"
     ]
    }
   ],
   "source": [
    "#f=open('C:\\Users\\rakes\\OneDrive\\Documents\\Behaviour\\FSDS iN\\DS - Copy\\Revision\\Rev7_File.txt','w')\n",
    "#unicode error can't decode bytes in 2-3 truncated \\UXXXX escape\n",
    "f=open(r'C:\\Users\\rakes\\OneDrive\\Documents\\Behaviour\\FSDS iN\\DS - Copy\\Revision\\Rev7_File1.txt','w')\n",
    "f.write(\"this is the output of writing the following code- f=open(r'C:\\Users\\rakes\\OneDrive\\Documents\\Behaviour\\FSDS iN\\DS - Copy\\Revision\\Rev7_File.txt','w')\",/n, \"f.write(\".....\")\", /n, \"f.close()\")\n",
    "f.close()"
   ]
  },
  {
   "cell_type": "code",
   "execution_count": null,
   "metadata": {},
   "outputs": [],
   "source": [
    "f=open(r'C:\\Users\\rakes\\Rev7_File.txt','w')"
   ]
  },
  {
   "cell_type": "markdown",
   "metadata": {},
   "source": [
    "### File Mode Description\n",
    "`‘r’`\t\n",
    "- This is the default mode. It Opens file for reading.  \n",
    "‘w’\t\n",
    "- This Mode Opens file for writing.  \n",
    "- If file does not exist, it creates a new file.  \n",
    "- If file exists it truncates the file.\n",
    "  \n",
    "‘a’\t\n",
    "- Open file in append mode.  \n",
    "- If file does not exist, it creates a new file.\n",
    "\n",
    "‘+’\t\n",
    "- This will open a file for reading and writing (updating)\n",
    "\n",
    "‘b’\t- This opens in binary mode.  \n",
    "\n",
    "‘t’ - This is the default mode. It opens in text mode.  \n",
    "\n",
    "‘x’ -Creates a new file. If file already exists, the operation fails.\n"
   ]
  },
  {
   "cell_type": "markdown",
   "metadata": {},
   "source": [
    "Open/ Create a File"
   ]
  },
  {
   "cell_type": "code",
   "execution_count": 86,
   "metadata": {},
   "outputs": [],
   "source": [
    "def main():\n",
    "     #Open the .txt file\n",
    "     f= open(\"guru99.txt\",\"w+\")\n",
    "     #Enter data into the file\n",
    "     for i in range(10):\n",
    "         f.write(\"This is line %d\\r\\n\" % (i+1))\n",
    "     #Close the file instance\n",
    "     f.close()   \n",
    "    \n",
    "if __name__== \"__main__\":\n",
    "  main()"
   ]
  },
  {
   "cell_type": "markdown",
   "metadata": {},
   "source": [
    "Append File in Python"
   ]
  },
  {
   "cell_type": "code",
   "execution_count": null,
   "metadata": {},
   "outputs": [],
   "source": [
    "def main():\n",
    "     #Open the .txt file\n",
    "     f=open(\"guru99.txt\", \"a+\")\n",
    "     #Append Text File in Python\n",
    "     for i in range(2):\n",
    "          f.write(\"Appended line %d\\r\\n\" % (i+1))\n",
    "     #Close the file instance\n",
    "     f.close()\n",
    "  \n",
    "if __name__== \"__main__\":\n",
    "  main()"
   ]
  },
  {
   "cell_type": "markdown",
   "metadata": {},
   "source": [
    "Read Files in Python"
   ]
  },
  {
   "cell_type": "code",
   "execution_count": null,
   "metadata": {},
   "outputs": [],
   "source": [
    "def main():\n",
    "    #Open the file back and read the contents\n",
    "    f=open(\"guru99.txt\", \"r\")\n",
    "    if f.mode == 'r': \n",
    "        contents = f.read()\n",
    "        print (contents)\n",
    "    #Close the file instance\n",
    "    f.close()\n",
    "\n",
    "if __name__== \"__main__\":\n",
    "  main()"
   ]
  },
  {
   "cell_type": "markdown",
   "metadata": {},
   "source": [
    " Read a File line by line in Python"
   ]
  },
  {
   "cell_type": "code",
   "execution_count": null,
   "metadata": {},
   "outputs": [],
   "source": [
    "def main():\n",
    "    #Open the file back and read the contents\n",
    "    f=open(\"guru99.txt\", \"r\")\n",
    "    #or, readlines reads the individual line into a list\n",
    "    fl = f.readlines()\n",
    "    for x in fl:\n",
    "       print x\n",
    "    #Close the file instance\n",
    "    f.close()\n",
    "    \n",
    "if __name__== \"__main__\":\n",
    "  main()"
   ]
  },
  {
   "cell_type": "code",
   "execution_count": 87,
   "metadata": {},
   "outputs": [
    {
     "name": "stdout",
     "output_type": "stream",
     "text": [
      "2.0\n"
     ]
    }
   ],
   "source": [
    "print(3.0-1)"
   ]
  },
  {
   "cell_type": "code",
   "execution_count": 1,
   "metadata": {},
   "outputs": [
    {
     "name": "stdout",
     "output_type": "stream",
     "text": [
      "Writing test.txt\n"
     ]
    }
   ],
   "source": [
    "%%writefile test.txt\n",
    "this\n",
    "is my\n",
    "write\n",
    "file\n",
    "'''  %writefile [-a] filename\n",
    "\n",
    "Write the contents of the cell to a file.\n",
    "\n",
    "The file will be overwritten unless the -a (--append) flag is specified.\n",
    "\n",
    "positional arguments:'''"
   ]
  },
  {
   "cell_type": "code",
   "execution_count": 2,
   "metadata": {},
   "outputs": [
    {
     "data": {
      "text/plain": [
       "['In',\n",
       " 'Out',\n",
       " '_',\n",
       " '__',\n",
       " '___',\n",
       " '__builtin__',\n",
       " '__builtins__',\n",
       " '__doc__',\n",
       " '__loader__',\n",
       " '__name__',\n",
       " '__package__',\n",
       " '__spec__',\n",
       " '_dh',\n",
       " '_i',\n",
       " '_i1',\n",
       " '_i2',\n",
       " '_ih',\n",
       " '_ii',\n",
       " '_iii',\n",
       " '_oh',\n",
       " 'exit',\n",
       " 'get_ipython',\n",
       " 'open',\n",
       " 'quit']"
      ]
     },
     "execution_count": 2,
     "metadata": {},
     "output_type": "execute_result"
    }
   ],
   "source": [
    "dir()"
   ]
  },
  {
   "cell_type": "code",
   "execution_count": 3,
   "metadata": {},
   "outputs": [
    {
     "ename": "TypeError",
     "evalue": "write() argument must be str, not list",
     "output_type": "error",
     "traceback": [
      "\u001b[1;31m---------------------------------------------------------------------------\u001b[0m",
      "\u001b[1;31mTypeError\u001b[0m                                 Traceback (most recent call last)",
      "Cell \u001b[1;32mIn[3], line 3\u001b[0m\n\u001b[0;32m      1\u001b[0m l\u001b[38;5;241m=\u001b[39m[\u001b[38;5;241m6\u001b[39m,\u001b[38;5;241m8\u001b[39m]\n\u001b[0;32m      2\u001b[0m f2\u001b[38;5;241m=\u001b[39m\u001b[38;5;28mopen\u001b[39m(\u001b[38;5;124m'\u001b[39m\u001b[38;5;124mw.txt\u001b[39m\u001b[38;5;124m'\u001b[39m,\u001b[38;5;124m'\u001b[39m\u001b[38;5;124mw\u001b[39m\u001b[38;5;124m'\u001b[39m)\n\u001b[1;32m----> 3\u001b[0m \u001b[43mf2\u001b[49m\u001b[38;5;241;43m.\u001b[39;49m\u001b[43mwrite\u001b[49m\u001b[43m(\u001b[49m\u001b[43ml\u001b[49m\u001b[43m)\u001b[49m\n",
      "\u001b[1;31mTypeError\u001b[0m: write() argument must be str, not list"
     ]
    }
   ],
   "source": [
    "l=[6,8]\n",
    "f2=open('w.txt','w')\n",
    "f2.write(l)"
   ]
  },
  {
   "cell_type": "code",
   "execution_count": 4,
   "metadata": {},
   "outputs": [
    {
     "data": {
      "text/plain": [
       "6"
      ]
     },
     "execution_count": 4,
     "metadata": {},
     "output_type": "execute_result"
    }
   ],
   "source": [
    "#TypeError: write() argument must be str, not list\n",
    "#str(l)\n",
    "f2.write(str(l))"
   ]
  },
  {
   "cell_type": "code",
   "execution_count": 5,
   "metadata": {},
   "outputs": [],
   "source": [
    "f2.close()"
   ]
  },
  {
   "cell_type": "code",
   "execution_count": 7,
   "metadata": {},
   "outputs": [
    {
     "data": {
      "text/plain": [
       "True"
      ]
     },
     "execution_count": 7,
     "metadata": {},
     "output_type": "execute_result"
    }
   ],
   "source": [
    "# to check if closed\n",
    "f2.closed "
   ]
  },
  {
   "cell_type": "code",
   "execution_count": 9,
   "metadata": {},
   "outputs": [
    {
     "data": {
      "text/plain": [
       "'w.txt'"
      ]
     },
     "execution_count": 9,
     "metadata": {},
     "output_type": "execute_result"
    }
   ],
   "source": [
    "f2.name"
   ]
  },
  {
   "cell_type": "code",
   "execution_count": 10,
   "metadata": {},
   "outputs": [
    {
     "data": {
      "text/plain": [
       "'w'"
      ]
     },
     "execution_count": 10,
     "metadata": {},
     "output_type": "execute_result"
    }
   ],
   "source": [
    "f2.mode"
   ]
  },
  {
   "cell_type": "code",
   "execution_count": null,
   "metadata": {},
   "outputs": [],
   "source": [
    "''' blank in 2nd read opn\n",
    "read entire dataset\n",
    "go to location\n",
    "string- index-0,1...last\n",
    "pointer at last location\n",
    "same file opn -> no data set - >\n",
    "exhausted- cant read any read data\n",
    "# seek-> set cursor at any particulat point'''"
   ]
  },
  {
   "cell_type": "code",
   "execution_count": 12,
   "metadata": {},
   "outputs": [],
   "source": [
    "f=open('test.txt')"
   ]
  },
  {
   "cell_type": "code",
   "execution_count": 13,
   "metadata": {},
   "outputs": [
    {
     "data": {
      "text/plain": [
       "\"this\\nis my\\nwrite\\nfile\\n'''  %writefile [-a] filename\\n\\nWrite the contents of the cell to a file.\\n\\nThe file will be overwritten unless the -a (--append) flag is specified.\\n\\npositional arguments:'''\\n\""
      ]
     },
     "execution_count": 13,
     "metadata": {},
     "output_type": "execute_result"
    }
   ],
   "source": [
    "f.read()"
   ]
  },
  {
   "cell_type": "code",
   "execution_count": 14,
   "metadata": {},
   "outputs": [
    {
     "data": {
      "text/plain": [
       "''"
      ]
     },
     "execution_count": 14,
     "metadata": {},
     "output_type": "execute_result"
    }
   ],
   "source": [
    "f.read()"
   ]
  },
  {
   "cell_type": "code",
   "execution_count": 15,
   "metadata": {},
   "outputs": [
    {
     "data": {
      "text/plain": [
       "0"
      ]
     },
     "execution_count": 15,
     "metadata": {},
     "output_type": "execute_result"
    }
   ],
   "source": [
    "f.seek(0)"
   ]
  },
  {
   "cell_type": "code",
   "execution_count": 16,
   "metadata": {},
   "outputs": [
    {
     "data": {
      "text/plain": [
       "\"this\\nis my\\nwrite\\nfile\\n'''  %writefile [-a] filename\\n\\nWrite the contents of the cell to a file.\\n\\nThe file will be overwritten unless the -a (--append) flag is specified.\\n\\npositional arguments:'''\\n\""
      ]
     },
     "execution_count": 16,
     "metadata": {},
     "output_type": "execute_result"
    }
   ],
   "source": [
    "f.read()"
   ]
  },
  {
   "cell_type": "code",
   "execution_count": 17,
   "metadata": {},
   "outputs": [
    {
     "data": {
      "text/plain": [
       "3"
      ]
     },
     "execution_count": 17,
     "metadata": {},
     "output_type": "execute_result"
    }
   ],
   "source": [
    "f.seek(3)"
   ]
  },
  {
   "cell_type": "code",
   "execution_count": 19,
   "metadata": {},
   "outputs": [
    {
     "data": {
      "text/plain": [
       "3"
      ]
     },
     "execution_count": 19,
     "metadata": {},
     "output_type": "execute_result"
    }
   ],
   "source": [
    "f.tell()"
   ]
  },
  {
   "cell_type": "code",
   "execution_count": null,
   "metadata": {},
   "outputs": [],
   "source": [
    "f.read()\n",
    "'''Read at most n characters from stream.\n",
    "\n",
    "Read from underlying buffer until we have n characters or we hit EOF.\n",
    "If n is negative or omitted, read until EOF.'''"
   ]
  },
  {
   "cell_type": "code",
   "execution_count": 20,
   "metadata": {},
   "outputs": [
    {
     "data": {
      "text/plain": [
       "['s\\n',\n",
       " 'is my\\n',\n",
       " 'write\\n',\n",
       " 'file\\n',\n",
       " \"'''  %writefile [-a] filename\\n\",\n",
       " '\\n',\n",
       " 'Write the contents of the cell to a file.\\n',\n",
       " '\\n',\n",
       " 'The file will be overwritten unless the -a (--append) flag is specified.\\n',\n",
       " '\\n',\n",
       " \"positional arguments:'''\\n\"]"
      ]
     },
     "execution_count": 20,
     "metadata": {},
     "output_type": "execute_result"
    }
   ],
   "source": [
    "f.readlines()\n",
    "'''Return a list of lines from the stream.\n",
    "\n",
    "hint can be specified to control the number of lines read: no more\n",
    "lines will be read if the total size (in bytes/characters) of all\n",
    "lines so far exceeds hint.'''"
   ]
  },
  {
   "cell_type": "code",
   "execution_count": 21,
   "metadata": {},
   "outputs": [
    {
     "data": {
      "text/plain": [
       "''"
      ]
     },
     "execution_count": 21,
     "metadata": {},
     "output_type": "execute_result"
    }
   ],
   "source": [
    "f.readline()"
   ]
  },
  {
   "cell_type": "code",
   "execution_count": 22,
   "metadata": {
    "scrolled": true
   },
   "outputs": [
    {
     "ename": "TypeError",
     "evalue": "seek expected at least 1 argument, got 0",
     "output_type": "error",
     "traceback": [
      "\u001b[1;31m---------------------------------------------------------------------------\u001b[0m",
      "\u001b[1;31mTypeError\u001b[0m                                 Traceback (most recent call last)",
      "Cell \u001b[1;32mIn[22], line 1\u001b[0m\n\u001b[1;32m----> 1\u001b[0m \u001b[43mf\u001b[49m\u001b[38;5;241;43m.\u001b[39;49m\u001b[43mseek\u001b[49m\u001b[43m(\u001b[49m\u001b[43m)\u001b[49m\n",
      "\u001b[1;31mTypeError\u001b[0m: seek expected at least 1 argument, got 0"
     ]
    }
   ],
   "source": [
    "f.seek()\n",
    "#TypeError: seek expected at least 1 argument, got 0"
   ]
  },
  {
   "cell_type": "code",
   "execution_count": 23,
   "metadata": {},
   "outputs": [
    {
     "data": {
      "text/plain": [
       "0"
      ]
     },
     "execution_count": 23,
     "metadata": {},
     "output_type": "execute_result"
    }
   ],
   "source": [
    "f.seek(0)"
   ]
  },
  {
   "cell_type": "code",
   "execution_count": 24,
   "metadata": {},
   "outputs": [
    {
     "data": {
      "text/plain": [
       "'this\\n'"
      ]
     },
     "execution_count": 24,
     "metadata": {},
     "output_type": "execute_result"
    }
   ],
   "source": [
    "f.readline()\n",
    "'''Read until newline or EOF.\n",
    "\n",
    "Returns an empty string if EOF is hit immediately.'''"
   ]
  },
  {
   "cell_type": "code",
   "execution_count": 25,
   "metadata": {},
   "outputs": [
    {
     "ename": "ValueError",
     "evalue": "I/O operation on closed file",
     "output_type": "error",
     "traceback": [
      "\u001b[1;31m---------------------------------------------------------------------------\u001b[0m",
      "\u001b[1;31mValueError\u001b[0m                                Traceback (most recent call last)",
      "Cell \u001b[1;32mIn[25], line 1\u001b[0m\n\u001b[1;32m----> 1\u001b[0m \u001b[43mf2\u001b[49m\u001b[38;5;241;43m.\u001b[39;49m\u001b[43mfileno\u001b[49m\u001b[43m(\u001b[49m\u001b[43m)\u001b[49m\n",
      "\u001b[1;31mValueError\u001b[0m: I/O operation on closed file"
     ]
    }
   ],
   "source": [
    "f2.fileno()"
   ]
  },
  {
   "cell_type": "code",
   "execution_count": 26,
   "metadata": {},
   "outputs": [
    {
     "data": {
      "text/plain": [
       "'Returns underlying file descriptor if one exists.\\n\\nOSError is raised if the IO object does not use a file descriptor.'"
      ]
     },
     "execution_count": 26,
     "metadata": {},
     "output_type": "execute_result"
    }
   ],
   "source": [
    "f.fileno()\n",
    "'''Returns underlying file descriptor if one exists.\n",
    "\n",
    "OSError is raised if the IO object does not use a file descriptor.'''"
   ]
  },
  {
   "cell_type": "code",
   "execution_count": 27,
   "metadata": {},
   "outputs": [
    {
     "data": {
      "text/plain": [
       "4"
      ]
     },
     "execution_count": 27,
     "metadata": {},
     "output_type": "execute_result"
    }
   ],
   "source": [
    "f.fileno()"
   ]
  },
  {
   "cell_type": "code",
   "execution_count": null,
   "metadata": {},
   "outputs": [],
   "source": [
    "'''#w+- check if file exist- \n",
    "#if no exist create and \n",
    "\n",
    "#r+ - show error - file no exist'''"
   ]
  }
 ],
 "metadata": {
  "kernelspec": {
   "display_name": "Python 3 (ipykernel)",
   "language": "python",
   "name": "python3"
  },
  "language_info": {
   "codemirror_mode": {
    "name": "ipython",
    "version": 3
   },
   "file_extension": ".py",
   "mimetype": "text/x-python",
   "name": "python",
   "nbconvert_exporter": "python",
   "pygments_lexer": "ipython3",
   "version": "3.9.7"
  },
  "vscode": {
   "interpreter": {
    "hash": "010352527afc104039b6f13f96557a4bba4f4ccc96156159a6fe5a9935980b07"
   }
  }
 },
 "nbformat": 4,
 "nbformat_minor": 2
}
