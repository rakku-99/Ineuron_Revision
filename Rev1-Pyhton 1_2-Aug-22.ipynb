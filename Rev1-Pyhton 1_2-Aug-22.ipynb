{
 "cells": [
  {
   "cell_type": "code",
   "execution_count": 1,
   "id": "cab539aa",
   "metadata": {},
   "outputs": [
    {
     "data": {
      "text/plain": [
       "2"
      ]
     },
     "execution_count": 1,
     "metadata": {},
     "output_type": "execute_result"
    }
   ],
   "source": [
    "1+1"
   ]
  },
  {
   "cell_type": "code",
   "execution_count": 2,
   "id": "d7b45bce",
   "metadata": {},
   "outputs": [
    {
     "data": {
      "text/plain": [
       "1"
      ]
     },
     "execution_count": 2,
     "metadata": {},
     "output_type": "execute_result"
    }
   ],
   "source": [
    "True - False"
   ]
  },
  {
   "cell_type": "code",
   "execution_count": 3,
   "id": "74a44596",
   "metadata": {},
   "outputs": [],
   "source": [
    "rakesh= 10"
   ]
  },
  {
   "cell_type": "code",
   "execution_count": 4,
   "id": "5d9be13c",
   "metadata": {},
   "outputs": [
    {
     "data": {
      "text/plain": [
       "3"
      ]
     },
     "execution_count": 4,
     "metadata": {},
     "output_type": "execute_result"
    }
   ],
   "source": [
    "rakesh-7"
   ]
  },
  {
   "cell_type": "code",
   "execution_count": 12,
   "id": "415b6684",
   "metadata": {},
   "outputs": [
    {
     "data": {
      "text/plain": [
       "str"
      ]
     },
     "execution_count": 12,
     "metadata": {},
     "output_type": "execute_result"
    }
   ],
   "source": [
    "type(rakesh)\n",
    "a=3.2\n",
    "type(a)\n",
    "b=\"this is\"\n",
    "type(b)"
   ]
  },
  {
   "cell_type": "code",
   "execution_count": 11,
   "id": "89820939",
   "metadata": {},
   "outputs": [
    {
     "data": {
      "text/plain": [
       "str"
      ]
     },
     "execution_count": 11,
     "metadata": {},
     "output_type": "execute_result"
    }
   ],
   "source": [
    "type(rakesh);\n",
    "a=3.2\n",
    "type(a);\n",
    "b=\"this is\"\n",
    "type(b)"
   ]
  },
  {
   "cell_type": "code",
   "execution_count": 13,
   "id": "74f28fe6",
   "metadata": {},
   "outputs": [
    {
     "data": {
      "text/plain": [
       "bool"
      ]
     },
     "execution_count": 13,
     "metadata": {},
     "output_type": "execute_result"
    }
   ],
   "source": [
    "type(True)"
   ]
  },
  {
   "cell_type": "code",
   "execution_count": 1,
   "id": "fd1455f6",
   "metadata": {},
   "outputs": [],
   "source": [
    "n=9+6j"
   ]
  },
  {
   "cell_type": "code",
   "execution_count": 5,
   "id": "a43c5bd7",
   "metadata": {},
   "outputs": [],
   "source": [
    "c= n.conjugate()"
   ]
  },
  {
   "cell_type": "code",
   "execution_count": 6,
   "id": "4064d751",
   "metadata": {},
   "outputs": [
    {
     "data": {
      "text/plain": [
       "(9-6j)"
      ]
     },
     "execution_count": 6,
     "metadata": {},
     "output_type": "execute_result"
    }
   ],
   "source": [
    "c"
   ]
  },
  {
   "cell_type": "code",
   "execution_count": 7,
   "id": "a9674ac4",
   "metadata": {},
   "outputs": [
    {
     "data": {
      "text/plain": [
       "(9-6j)"
      ]
     },
     "execution_count": 7,
     "metadata": {},
     "output_type": "execute_result"
    }
   ],
   "source": [
    "c"
   ]
  },
  {
   "cell_type": "code",
   "execution_count": 9,
   "id": "bb024b79",
   "metadata": {},
   "outputs": [
    {
     "data": {
      "text/plain": [
       "<function complex.conjugate>"
      ]
     },
     "execution_count": 9,
     "metadata": {},
     "output_type": "execute_result"
    }
   ],
   "source": [
    "n.conjugate"
   ]
  },
  {
   "cell_type": "code",
   "execution_count": 10,
   "id": "c319c126",
   "metadata": {},
   "outputs": [
    {
     "data": {
      "text/plain": [
       "6.0"
      ]
     },
     "execution_count": 10,
     "metadata": {},
     "output_type": "execute_result"
    }
   ],
   "source": [
    "n.imag"
   ]
  },
  {
   "cell_type": "code",
   "execution_count": 11,
   "id": "400437a6",
   "metadata": {},
   "outputs": [
    {
     "data": {
      "text/plain": [
       "9.0"
      ]
     },
     "execution_count": 11,
     "metadata": {},
     "output_type": "execute_result"
    }
   ],
   "source": [
    "n.real"
   ]
  },
  {
   "cell_type": "code",
   "execution_count": 12,
   "id": "75dc33c3",
   "metadata": {},
   "outputs": [],
   "source": [
    "l=[1,2,3]"
   ]
  },
  {
   "cell_type": "code",
   "execution_count": 15,
   "id": "f414e2e6",
   "metadata": {},
   "outputs": [],
   "source": [
    "s2=\"this is a str\""
   ]
  },
  {
   "cell_type": "code",
   "execution_count": 16,
   "id": "5844b87d",
   "metadata": {},
   "outputs": [
    {
     "data": {
      "text/plain": [
       "''"
      ]
     },
     "execution_count": 16,
     "metadata": {},
     "output_type": "execute_result"
    }
   ],
   "source": [
    "s2[3:1]"
   ]
  },
  {
   "cell_type": "code",
   "execution_count": 17,
   "id": "4ec4b49e",
   "metadata": {},
   "outputs": [
    {
     "data": {
      "text/plain": [
       "' '"
      ]
     },
     "execution_count": 17,
     "metadata": {},
     "output_type": "execute_result"
    }
   ],
   "source": [
    "s2[4]"
   ]
  },
  {
   "cell_type": "code",
   "execution_count": 18,
   "id": "97e133dd",
   "metadata": {},
   "outputs": [
    {
     "data": {
      "text/plain": [
       "'rts a si siht'"
      ]
     },
     "execution_count": 18,
     "metadata": {},
     "output_type": "execute_result"
    }
   ],
   "source": [
    "s2[::-1]"
   ]
  },
  {
   "cell_type": "code",
   "execution_count": 19,
   "id": "4d9ee72c",
   "metadata": {},
   "outputs": [
    {
     "data": {
      "text/plain": [
       "'his is a st'"
      ]
     },
     "execution_count": 19,
     "metadata": {},
     "output_type": "execute_result"
    }
   ],
   "source": [
    "s2[-12: -1 :1]"
   ]
  },
  {
   "cell_type": "code",
   "execution_count": 20,
   "id": "cf542056",
   "metadata": {},
   "outputs": [
    {
     "data": {
      "text/plain": [
       "'this is a st'"
      ]
     },
     "execution_count": 20,
     "metadata": {},
     "output_type": "execute_result"
    }
   ],
   "source": [
    "s2[-13: -1 :1]\n"
   ]
  },
  {
   "cell_type": "code",
   "execution_count": 21,
   "id": "a65dc13d",
   "metadata": {},
   "outputs": [
    {
     "data": {
      "text/plain": [
       "''"
      ]
     },
     "execution_count": 21,
     "metadata": {},
     "output_type": "execute_result"
    }
   ],
   "source": [
    "s2[-13:0:1]"
   ]
  },
  {
   "cell_type": "code",
   "execution_count": 22,
   "id": "9aa906f1",
   "metadata": {},
   "outputs": [
    {
     "data": {
      "text/plain": [
       "'is is a str'"
      ]
     },
     "execution_count": 22,
     "metadata": {},
     "output_type": "execute_result"
    }
   ],
   "source": [
    "s2[2 : ]\n"
   ]
  },
  {
   "cell_type": "code",
   "execution_count": 24,
   "id": "f4667d50",
   "metadata": {},
   "outputs": [],
   "source": [
    "s=\"this is\""
   ]
  },
  {
   "cell_type": "code",
   "execution_count": 25,
   "id": "417f402e",
   "metadata": {},
   "outputs": [
    {
     "data": {
      "text/plain": [
       "'this isthis is a str'"
      ]
     },
     "execution_count": 25,
     "metadata": {},
     "output_type": "execute_result"
    }
   ],
   "source": [
    "s+s2"
   ]
  },
  {
   "cell_type": "code",
   "execution_count": 27,
   "id": "1fddc6c0",
   "metadata": {},
   "outputs": [
    {
     "data": {
      "text/plain": [
       "'this is1'"
      ]
     },
     "execution_count": 27,
     "metadata": {},
     "output_type": "execute_result"
    }
   ],
   "source": [
    "s+str(1)"
   ]
  },
  {
   "cell_type": "code",
   "execution_count": 42,
   "id": "f882a879",
   "metadata": {},
   "outputs": [],
   "source": [
    "z=s.translate(\"as\")"
   ]
  },
  {
   "cell_type": "code",
   "execution_count": 37,
   "id": "a3d11160",
   "metadata": {},
   "outputs": [
    {
     "data": {
      "text/plain": [
       "'this is a str'"
      ]
     },
     "execution_count": 37,
     "metadata": {},
     "output_type": "execute_result"
    }
   ],
   "source": [
    "s2"
   ]
  },
  {
   "cell_type": "code",
   "execution_count": 43,
   "id": "b9490683",
   "metadata": {},
   "outputs": [
    {
     "data": {
      "text/plain": [
       "'this is'"
      ]
     },
     "execution_count": 43,
     "metadata": {},
     "output_type": "execute_result"
    }
   ],
   "source": [
    "z"
   ]
  },
  {
   "cell_type": "code",
   "execution_count": 44,
   "id": "18b2cdcd",
   "metadata": {},
   "outputs": [
    {
     "data": {
      "text/plain": [
       "['', '']"
      ]
     },
     "execution_count": 44,
     "metadata": {},
     "output_type": "execute_result"
    }
   ],
   "source": [
    "s.split(s)"
   ]
  },
  {
   "cell_type": "code",
   "execution_count": 48,
   "id": "f6d8f755",
   "metadata": {},
   "outputs": [
    {
     "data": {
      "text/plain": [
       "['thi', ' i', ' a ', 'tr']"
      ]
     },
     "execution_count": 48,
     "metadata": {},
     "output_type": "execute_result"
    }
   ],
   "source": [
    "s2.split('s')"
   ]
  },
  {
   "cell_type": "code",
   "execution_count": 49,
   "id": "0acbe299",
   "metadata": {},
   "outputs": [
    {
     "data": {
      "text/plain": [
       "list"
      ]
     },
     "execution_count": 49,
     "metadata": {},
     "output_type": "execute_result"
    }
   ],
   "source": [
    "type(s2.split('s'))"
   ]
  },
  {
   "cell_type": "code",
   "execution_count": 51,
   "id": "0224a5f2",
   "metadata": {},
   "outputs": [
    {
     "data": {
      "text/plain": [
       "['this', 'is', 'a', 'str']"
      ]
     },
     "execution_count": 51,
     "metadata": {},
     "output_type": "execute_result"
    }
   ],
   "source": [
    "s2.split(' ')"
   ]
  },
  {
   "cell_type": "code",
   "execution_count": 52,
   "id": "f1c4a158",
   "metadata": {
    "scrolled": false
   },
   "outputs": [
    {
     "ename": "ValueError",
     "evalue": "empty separator",
     "output_type": "error",
     "traceback": [
      "\u001b[1;31m---------------------------------------------------------------------------\u001b[0m",
      "\u001b[1;31mValueError\u001b[0m                                Traceback (most recent call last)",
      "\u001b[1;32m~\\AppData\\Local\\Temp/ipykernel_18936/3160871699.py\u001b[0m in \u001b[0;36m<module>\u001b[1;34m\u001b[0m\n\u001b[1;32m----> 1\u001b[1;33m \u001b[0ms2\u001b[0m\u001b[1;33m.\u001b[0m\u001b[0msplit\u001b[0m\u001b[1;33m(\u001b[0m\u001b[1;34m''\u001b[0m\u001b[1;33m)\u001b[0m\u001b[1;33m\u001b[0m\u001b[1;33m\u001b[0m\u001b[0m\n\u001b[0m",
      "\u001b[1;31mValueError\u001b[0m: empty separator"
     ]
    }
   ],
   "source": [
    "s2.split('')"
   ]
  },
  {
   "cell_type": "code",
   "execution_count": 53,
   "id": "df602342",
   "metadata": {},
   "outputs": [
    {
     "data": {
      "text/plain": [
       "['this', 'is', 'a', 'str']"
      ]
     },
     "execution_count": 53,
     "metadata": {},
     "output_type": "execute_result"
    }
   ],
   "source": [
    "s2.split()"
   ]
  },
  {
   "cell_type": "code",
   "execution_count": 54,
   "id": "a2263df2",
   "metadata": {},
   "outputs": [
    {
     "data": {
      "text/plain": [
       "<function str.title()>"
      ]
     },
     "execution_count": 54,
     "metadata": {},
     "output_type": "execute_result"
    }
   ],
   "source": [
    "s2.title"
   ]
  },
  {
   "cell_type": "code",
   "execution_count": 55,
   "id": "ed07bded",
   "metadata": {},
   "outputs": [
    {
     "data": {
      "text/plain": [
       "'This Is A Str'"
      ]
     },
     "execution_count": 55,
     "metadata": {},
     "output_type": "execute_result"
    }
   ],
   "source": [
    "s2.title()"
   ]
  },
  {
   "cell_type": "code",
   "execution_count": 56,
   "id": "708b260a",
   "metadata": {},
   "outputs": [
    {
     "data": {
      "text/plain": [
       "'THIS IS A STR'"
      ]
     },
     "execution_count": 56,
     "metadata": {},
     "output_type": "execute_result"
    }
   ],
   "source": [
    "s2.swapcase()"
   ]
  },
  {
   "cell_type": "code",
   "execution_count": 64,
   "id": "68017277",
   "metadata": {},
   "outputs": [
    {
     "data": {
      "text/plain": [
       "'sthis isithis is this issthis isithis ishthis ist'"
      ]
     },
     "execution_count": 64,
     "metadata": {},
     "output_type": "execute_result"
    }
   ],
   "source": [
    "s.join(reversed(s))"
   ]
  },
  {
   "cell_type": "code",
   "execution_count": 63,
   "id": "5b0ade42",
   "metadata": {},
   "outputs": [
    {
     "data": {
      "text/plain": [
       "'si siht'"
      ]
     },
     "execution_count": 63,
     "metadata": {},
     "output_type": "execute_result"
    }
   ],
   "source": [
    "\"\".join(reversed(s))"
   ]
  },
  {
   "cell_type": "code",
   "execution_count": 59,
   "id": "ac359751",
   "metadata": {},
   "outputs": [
    {
     "data": {
      "text/plain": [
       "'this is a str'"
      ]
     },
     "execution_count": 59,
     "metadata": {},
     "output_type": "execute_result"
    }
   ],
   "source": [
    "s2"
   ]
  },
  {
   "cell_type": "code",
   "execution_count": 60,
   "id": "51061ceb",
   "metadata": {},
   "outputs": [
    {
     "data": {
      "text/plain": [
       "'this is'"
      ]
     },
     "execution_count": 60,
     "metadata": {},
     "output_type": "execute_result"
    }
   ],
   "source": [
    "s"
   ]
  },
  {
   "cell_type": "code",
   "execution_count": 62,
   "id": "d611ed02",
   "metadata": {},
   "outputs": [
    {
     "ename": "AttributeError",
     "evalue": "'str' object has no attribute 'reversed'",
     "output_type": "error",
     "traceback": [
      "\u001b[1;31m---------------------------------------------------------------------------\u001b[0m",
      "\u001b[1;31mAttributeError\u001b[0m                            Traceback (most recent call last)",
      "\u001b[1;32m~\\AppData\\Local\\Temp/ipykernel_18936/59850279.py\u001b[0m in \u001b[0;36m<module>\u001b[1;34m\u001b[0m\n\u001b[1;32m----> 1\u001b[1;33m \u001b[0ms\u001b[0m\u001b[1;33m.\u001b[0m\u001b[0mreversed\u001b[0m\u001b[1;33m\u001b[0m\u001b[1;33m\u001b[0m\u001b[0m\n\u001b[0m",
      "\u001b[1;31mAttributeError\u001b[0m: 'str' object has no attribute 'reversed'"
     ]
    }
   ],
   "source": [
    "s.reversed(s)"
   ]
  },
  {
   "cell_type": "code",
   "execution_count": 73,
   "id": "5371cc46",
   "metadata": {},
   "outputs": [
    {
     "data": {
      "text/plain": [
       "'sthis iss'"
      ]
     },
     "execution_count": 73,
     "metadata": {},
     "output_type": "execute_result"
    }
   ],
   "source": [
    "s.join('ss')"
   ]
  },
  {
   "cell_type": "code",
   "execution_count": 71,
   "id": "06755070",
   "metadata": {},
   "outputs": [
    {
     "data": {
      "text/plain": [
       "'s u'"
      ]
     },
     "execution_count": 71,
     "metadata": {},
     "output_type": "execute_result"
    }
   ],
   "source": [
    "\" \".join('su')"
   ]
  },
  {
   "cell_type": "code",
   "execution_count": 74,
   "id": "ccea81f6",
   "metadata": {},
   "outputs": [
    {
     "data": {
      "text/plain": [
       "'s'"
      ]
     },
     "execution_count": 74,
     "metadata": {},
     "output_type": "execute_result"
    }
   ],
   "source": [
    "s.join('s')"
   ]
  },
  {
   "cell_type": "code",
   "execution_count": 75,
   "id": "bdfd828f",
   "metadata": {},
   "outputs": [
    {
     "data": {
      "text/plain": [
       "'raaakaeasah'"
      ]
     },
     "execution_count": 75,
     "metadata": {},
     "output_type": "execute_result"
    }
   ],
   "source": [
    "\"a\".join('rakesh')"
   ]
  },
  {
   "cell_type": "code",
   "execution_count": 81,
   "id": "9457507d",
   "metadata": {},
   "outputs": [
    {
     "data": {
      "text/plain": [
       "'rakesh ranjan  '"
      ]
     },
     "execution_count": 81,
     "metadata": {},
     "output_type": "execute_result"
    }
   ],
   "source": [
    "a= \"   rakesh ranjan  \"\n",
    "a.lstrip()"
   ]
  },
  {
   "cell_type": "code",
   "execution_count": 82,
   "id": "cce42ea4",
   "metadata": {},
   "outputs": [
    {
     "data": {
      "text/plain": [
       "'   rakesh ranjan'"
      ]
     },
     "execution_count": 82,
     "metadata": {},
     "output_type": "execute_result"
    }
   ],
   "source": [
    "a.rstrip()"
   ]
  },
  {
   "cell_type": "code",
   "execution_count": 83,
   "id": "4149dce9",
   "metadata": {},
   "outputs": [
    {
     "data": {
      "text/plain": [
       "'rakesh ranjan'"
      ]
     },
     "execution_count": 83,
     "metadata": {},
     "output_type": "execute_result"
    }
   ],
   "source": [
    "a.strip()"
   ]
  },
  {
   "cell_type": "code",
   "execution_count": 84,
   "id": "961ab155",
   "metadata": {
    "scrolled": false
   },
   "outputs": [
    {
     "data": {
      "text/plain": [
       "'         r  a  k  e  s  h     r  a  n  j  a  n      '"
      ]
     },
     "execution_count": 84,
     "metadata": {},
     "output_type": "execute_result"
    }
   ],
   "source": [
    "\"  \".join(a)"
   ]
  },
  {
   "cell_type": "code",
   "execution_count": 88,
   "id": "77ccf3c8",
   "metadata": {},
   "outputs": [],
   "source": [
    "c= \"   rak   anjan  \""
   ]
  },
  {
   "cell_type": "code",
   "execution_count": 89,
   "id": "eba86208",
   "metadata": {},
   "outputs": [
    {
     "data": {
      "text/plain": [
       "'   rak   anjan  '"
      ]
     },
     "execution_count": 89,
     "metadata": {},
     "output_type": "execute_result"
    }
   ],
   "source": [
    "c.center(14)"
   ]
  },
  {
   "cell_type": "code",
   "execution_count": 96,
   "id": "ea6e5b55",
   "metadata": {
    "scrolled": true
   },
   "outputs": [
    {
     "data": {
      "text/plain": [
       "'@@@@@@@@@@@@@@   rak   anjan  @@@@@@@@@@@@@@'"
      ]
     },
     "execution_count": 96,
     "metadata": {},
     "output_type": "execute_result"
    }
   ],
   "source": [
    "c.center(44,\"@\")"
   ]
  },
  {
   "cell_type": "code",
   "execution_count": 97,
   "id": "959ccd1f",
   "metadata": {},
   "outputs": [
    {
     "data": {
      "text/plain": [
       "True"
      ]
     },
     "execution_count": 97,
     "metadata": {},
     "output_type": "execute_result"
    }
   ],
   "source": [
    "c.islower()"
   ]
  },
  {
   "cell_type": "code",
   "execution_count": 103,
   "id": "52941830",
   "metadata": {},
   "outputs": [],
   "source": [
    "d=12"
   ]
  },
  {
   "cell_type": "code",
   "execution_count": 99,
   "id": "8f0ac46e",
   "metadata": {},
   "outputs": [
    {
     "data": {
      "text/plain": [
       "False"
      ]
     },
     "execution_count": 99,
     "metadata": {},
     "output_type": "execute_result"
    }
   ],
   "source": [
    "s.isdigit()"
   ]
  },
  {
   "cell_type": "code",
   "execution_count": 104,
   "id": "a9f63b24",
   "metadata": {},
   "outputs": [
    {
     "ename": "AttributeError",
     "evalue": "'int' object has no attribute 'isdigit'",
     "output_type": "error",
     "traceback": [
      "\u001b[1;31m---------------------------------------------------------------------------\u001b[0m",
      "\u001b[1;31mAttributeError\u001b[0m                            Traceback (most recent call last)",
      "\u001b[1;32m~\\AppData\\Local\\Temp/ipykernel_18936/1226673045.py\u001b[0m in \u001b[0;36m<module>\u001b[1;34m\u001b[0m\n\u001b[1;32m----> 1\u001b[1;33m \u001b[0md\u001b[0m\u001b[1;33m.\u001b[0m\u001b[0misdigit\u001b[0m\u001b[1;33m(\u001b[0m\u001b[1;33m)\u001b[0m\u001b[1;33m\u001b[0m\u001b[1;33m\u001b[0m\u001b[0m\n\u001b[0m",
      "\u001b[1;31mAttributeError\u001b[0m: 'int' object has no attribute 'isdigit'"
     ]
    }
   ],
   "source": [
    "d.isdigit()"
   ]
  },
  {
   "cell_type": "code",
   "execution_count": 105,
   "id": "f8487ae4",
   "metadata": {},
   "outputs": [
    {
     "ename": "AttributeError",
     "evalue": "'int' object has no attribute 'isnumeric'",
     "output_type": "error",
     "traceback": [
      "\u001b[1;31m---------------------------------------------------------------------------\u001b[0m",
      "\u001b[1;31mAttributeError\u001b[0m                            Traceback (most recent call last)",
      "\u001b[1;32m~\\AppData\\Local\\Temp/ipykernel_18936/3601165536.py\u001b[0m in \u001b[0;36m<module>\u001b[1;34m\u001b[0m\n\u001b[1;32m----> 1\u001b[1;33m \u001b[0md\u001b[0m\u001b[1;33m.\u001b[0m\u001b[0misnumeric\u001b[0m\u001b[1;33m(\u001b[0m\u001b[1;33m)\u001b[0m\u001b[1;33m\u001b[0m\u001b[1;33m\u001b[0m\u001b[0m\n\u001b[0m",
      "\u001b[1;31mAttributeError\u001b[0m: 'int' object has no attribute 'isnumeric'"
     ]
    }
   ],
   "source": [
    "d.isnumeric()"
   ]
  },
  {
   "cell_type": "code",
   "execution_count": 111,
   "id": "f0c4702e",
   "metadata": {},
   "outputs": [],
   "source": [
    "d='12.6'"
   ]
  },
  {
   "cell_type": "code",
   "execution_count": 112,
   "id": "0bb9eabf",
   "metadata": {},
   "outputs": [
    {
     "data": {
      "text/plain": [
       "False"
      ]
     },
     "execution_count": 112,
     "metadata": {},
     "output_type": "execute_result"
    }
   ],
   "source": [
    "d.isdigit()"
   ]
  },
  {
   "cell_type": "code",
   "execution_count": 109,
   "id": "96da439e",
   "metadata": {},
   "outputs": [
    {
     "data": {
      "text/plain": [
       "True"
      ]
     },
     "execution_count": 109,
     "metadata": {},
     "output_type": "execute_result"
    }
   ],
   "source": [
    "c.startswith(\" \")"
   ]
  },
  {
   "cell_type": "code",
   "execution_count": 110,
   "id": "47ea18fc",
   "metadata": {},
   "outputs": [
    {
     "data": {
      "text/plain": [
       "False"
      ]
     },
     "execution_count": 110,
     "metadata": {},
     "output_type": "execute_result"
    }
   ],
   "source": [
    "d.startswith(\" \")"
   ]
  },
  {
   "cell_type": "code",
   "execution_count": 114,
   "id": "e2d41c3e",
   "metadata": {},
   "outputs": [
    {
     "data": {
      "text/plain": [
       "False"
      ]
     },
     "execution_count": 114,
     "metadata": {},
     "output_type": "execute_result"
    }
   ],
   "source": [
    "d.isdecimal()"
   ]
  },
  {
   "cell_type": "code",
   "execution_count": 115,
   "id": "261425c0",
   "metadata": {},
   "outputs": [
    {
     "data": {
      "text/plain": [
       "False"
      ]
     },
     "execution_count": 115,
     "metadata": {},
     "output_type": "execute_result"
    }
   ],
   "source": [
    "d.isnumeric()"
   ]
  },
  {
   "cell_type": "code",
   "execution_count": 116,
   "id": "dee9e19e",
   "metadata": {},
   "outputs": [
    {
     "data": {
      "text/plain": [
       "True"
      ]
     },
     "execution_count": 116,
     "metadata": {},
     "output_type": "execute_result"
    }
   ],
   "source": [
    "d.startswith('1')"
   ]
  },
  {
   "cell_type": "code",
   "execution_count": 118,
   "id": "5111212c",
   "metadata": {},
   "outputs": [
    {
     "data": {
      "text/plain": [
       "True"
      ]
     },
     "execution_count": 118,
     "metadata": {},
     "output_type": "execute_result"
    }
   ],
   "source": [
    "d.endswith('6')"
   ]
  },
  {
   "cell_type": "code",
   "execution_count": 119,
   "id": "e25efd47",
   "metadata": {},
   "outputs": [],
   "source": [
    "e=\" 098\""
   ]
  },
  {
   "cell_type": "code",
   "execution_count": 120,
   "id": "94708cfa",
   "metadata": {},
   "outputs": [
    {
     "data": {
      "text/plain": [
       "False"
      ]
     },
     "execution_count": 120,
     "metadata": {},
     "output_type": "execute_result"
    }
   ],
   "source": [
    "e.isdigit()"
   ]
  },
  {
   "cell_type": "code",
   "execution_count": 128,
   "id": "3e8bd3e8",
   "metadata": {},
   "outputs": [
    {
     "name": "stdout",
     "output_type": "stream",
     "text": [
      "float.isdigit()=False\n"
     ]
    }
   ],
   "source": [
    "print(f'{float.isdigit()=}')"
   ]
  },
  {
   "cell_type": "code",
   "execution_count": 127,
   "id": "ad795915",
   "metadata": {},
   "outputs": [],
   "source": [
    "float='8.6'"
   ]
  },
  {
   "cell_type": "code",
   "execution_count": 129,
   "id": "f3e3c76c",
   "metadata": {},
   "outputs": [],
   "source": [
    "fraction='2/3'"
   ]
  },
  {
   "cell_type": "code",
   "execution_count": 130,
   "id": "514259db",
   "metadata": {},
   "outputs": [
    {
     "name": "stdout",
     "output_type": "stream",
     "text": [
      "fraction.isnumeric()=False\n"
     ]
    }
   ],
   "source": [
    "print(f'{fraction.isnumeric()=}')"
   ]
  },
  {
   "cell_type": "code",
   "execution_count": 133,
   "id": "8db5116c",
   "metadata": {},
   "outputs": [
    {
     "data": {
      "text/plain": [
       "False"
      ]
     },
     "execution_count": 133,
     "metadata": {},
     "output_type": "execute_result"
    }
   ],
   "source": [
    "s='rak123 '\n",
    "s.isalnum()"
   ]
  },
  {
   "cell_type": "code",
   "execution_count": 135,
   "id": "82901d91",
   "metadata": {},
   "outputs": [
    {
     "data": {
      "text/plain": [
       "False"
      ]
     },
     "execution_count": 135,
     "metadata": {},
     "output_type": "execute_result"
    }
   ],
   "source": [
    "sp='  6  '\n",
    "sp.isspace()"
   ]
  },
  {
   "cell_type": "code",
   "execution_count": 136,
   "id": "2f3865e1",
   "metadata": {},
   "outputs": [
    {
     "data": {
      "text/plain": [
       "False"
      ]
     },
     "execution_count": 136,
     "metadata": {},
     "output_type": "execute_result"
    }
   ],
   "source": [
    "s4='4 656'\n",
    "s4.isnumeric()"
   ]
  },
  {
   "cell_type": "code",
   "execution_count": 137,
   "id": "e2fac4c3",
   "metadata": {},
   "outputs": [],
   "source": [
    "s='XI'"
   ]
  },
  {
   "cell_type": "code",
   "execution_count": 138,
   "id": "43e07652",
   "metadata": {},
   "outputs": [
    {
     "data": {
      "text/plain": [
       "False"
      ]
     },
     "execution_count": 138,
     "metadata": {},
     "output_type": "execute_result"
    }
   ],
   "source": [
    "s.isdigit()"
   ]
  },
  {
   "cell_type": "code",
   "execution_count": 139,
   "id": "a6068e39",
   "metadata": {},
   "outputs": [
    {
     "data": {
      "text/plain": [
       "False"
      ]
     },
     "execution_count": 139,
     "metadata": {},
     "output_type": "execute_result"
    }
   ],
   "source": [
    "s.isnumeric()"
   ]
  },
  {
   "cell_type": "code",
   "execution_count": 140,
   "id": "762d8a2d",
   "metadata": {},
   "outputs": [
    {
     "data": {
      "text/plain": [
       "<reversed at 0x20b9a2eeaf0>"
      ]
     },
     "execution_count": 140,
     "metadata": {},
     "output_type": "execute_result"
    }
   ],
   "source": [
    "reversed(s)"
   ]
  },
  {
   "cell_type": "code",
   "execution_count": 141,
   "id": "e728cc9a",
   "metadata": {
    "scrolled": true
   },
   "outputs": [
    {
     "data": {
      "text/plain": [
       "reversed"
      ]
     },
     "execution_count": 141,
     "metadata": {},
     "output_type": "execute_result"
    }
   ],
   "source": [
    "type(reversed(s))"
   ]
  },
  {
   "cell_type": "code",
   "execution_count": 146,
   "id": "fefb5acc",
   "metadata": {},
   "outputs": [],
   "source": [
    "ex=\"rake\\tki\\tgoli\""
   ]
  },
  {
   "cell_type": "code",
   "execution_count": 147,
   "id": "76b05427",
   "metadata": {},
   "outputs": [
    {
     "data": {
      "text/plain": [
       "'rake    ki      goli'"
      ]
     },
     "execution_count": 147,
     "metadata": {},
     "output_type": "execute_result"
    }
   ],
   "source": [
    "ex.expandtabs()"
   ]
  },
  {
   "cell_type": "code",
   "execution_count": 149,
   "id": "e0b79e86",
   "metadata": {},
   "outputs": [],
   "source": [
    "n='list\\ntuple'"
   ]
  },
  {
   "cell_type": "code",
   "execution_count": 150,
   "id": "3fc90219",
   "metadata": {},
   "outputs": [
    {
     "data": {
      "text/plain": [
       "'list\\ntuple'"
      ]
     },
     "execution_count": 150,
     "metadata": {},
     "output_type": "execute_result"
    }
   ],
   "source": [
    "n.expandtabs()"
   ]
  },
  {
   "cell_type": "code",
   "execution_count": 151,
   "id": "162a6010",
   "metadata": {},
   "outputs": [
    {
     "data": {
      "text/plain": [
       "'list\\ntuple'"
      ]
     },
     "execution_count": 151,
     "metadata": {},
     "output_type": "execute_result"
    }
   ],
   "source": [
    "n"
   ]
  },
  {
   "cell_type": "code",
   "execution_count": 154,
   "id": "100fd775",
   "metadata": {},
   "outputs": [],
   "source": [
    "octal= '0x12c'"
   ]
  },
  {
   "cell_type": "code",
   "execution_count": 156,
   "id": "500c9986",
   "metadata": {},
   "outputs": [
    {
     "data": {
      "text/plain": [
       "False"
      ]
     },
     "execution_count": 156,
     "metadata": {},
     "output_type": "execute_result"
    }
   ],
   "source": [
    "octal.isdigit()"
   ]
  },
  {
   "cell_type": "code",
   "execution_count": 157,
   "id": "a39834db",
   "metadata": {},
   "outputs": [],
   "source": [
    "spl_line=\"\"\"The Samsung Group[3] (or simply Samsung, stylized as SΛMSUNG) (Korean: 삼성 [samsʌŋ]) is a South Korean multinational manufacturing conglomerate headquartered in Samsung Town, Seoul, South Korea.[1] It comprises numerous affiliated businesses,[1] most of them united under the Samsung brand, and is the largest South Korean chaebol (business conglomerate). As of 2020, Samsung has the 8th highest global brand value.[4]\n",
    "\n",
    "Samsung was founded by Lee Byung-chul in 1938 as a trading company. Over the next three decades, the group diversified into areas including food processing, textiles, insurance, securities, and retail. Samsung entered the electronics industry in the late 1960s and the construction and shipbuilding industries in the mid-1970s; these areas would drive its subsequent growth. Following Lee's death in 1987, Samsung was separated into five business groups – Samsung Group, Shinsegae Group, CJ Group and Hansol Group, and Joongang Group.\n",
    "\n",
    "Notable Samsung industrial affiliates include Samsung Electronics (the world's largest information technology company, consumer electronics maker and chipmaker measured by 2017 revenues),[5][6] Samsung Heavy Industries (the world's 2nd largest shipbuilder measured by 2010 revenues),[7] and Samsung Engineering and Samsung C&T Corporation (respectively the world's 13th and 36th largest construction companies).[8] Other notable subsidiaries include Samsung Life Insurance (the world's 14th largest life insurance company),[9] Samsung Everland (operator of Everland Resort, the oldest theme park in South Korea)[10] and Cheil Worldwide (the world's 15th largest advertising agency, as measured by 2012 revenues).[11][12]\"\"\""
   ]
  },
  {
   "cell_type": "code",
   "execution_count": 159,
   "id": "c6c64fef",
   "metadata": {},
   "outputs": [
    {
     "data": {
      "text/plain": [
       "['The Samsung Group[3] (or simply Samsung, stylized as SΛMSUNG) (Korean: 삼성 [samsʌŋ]) is a South Korean multinational manufacturing conglomerate headquartered in Samsung Town, Seoul, South Korea.[1] It comprises numerous affiliated businesses,[1] most of them united under the Samsung brand, and is the largest South Korean chaebol (business conglomerate). As of 2020, Samsung has the 8th highest global brand value.[4]',\n",
       " '',\n",
       " \"Samsung was founded by Lee Byung-chul in 1938 as a trading company. Over the next three decades, the group diversified into areas including food processing, textiles, insurance, securities, and retail. Samsung entered the electronics industry in the late 1960s and the construction and shipbuilding industries in the mid-1970s; these areas would drive its subsequent growth. Following Lee's death in 1987, Samsung was separated into five business groups – Samsung Group, Shinsegae Group, CJ Group and Hansol Group, and Joongang Group.\",\n",
       " '',\n",
       " \"Notable Samsung industrial affiliates include Samsung Electronics (the world's largest information technology company, consumer electronics maker and chipmaker measured by 2017 revenues),[5][6] Samsung Heavy Industries (the world's 2nd largest shipbuilder measured by 2010 revenues),[7] and Samsung Engineering and Samsung C&T Corporation (respectively the world's 13th and 36th largest construction companies).[8] Other notable subsidiaries include Samsung Life Insurance (the world's 14th largest life insurance company),[9] Samsung Everland (operator of Everland Resort, the oldest theme park in South Korea)[10] and Cheil Worldwide (the world's 15th largest advertising agency, as measured by 2012 revenues).[11][12]\"]"
      ]
     },
     "execution_count": 159,
     "metadata": {},
     "output_type": "execute_result"
    }
   ],
   "source": [
    "spl_line.splitlines()"
   ]
  },
  {
   "cell_type": "code",
   "execution_count": 160,
   "id": "9da751c2",
   "metadata": {},
   "outputs": [
    {
     "data": {
      "text/plain": [
       "True"
      ]
     },
     "execution_count": 160,
     "metadata": {},
     "output_type": "execute_result"
    }
   ],
   "source": [
    "x='\\13'\n",
    "x.isspace()"
   ]
  },
  {
   "cell_type": "markdown",
   "id": "0ecabd46",
   "metadata": {},
   "source": [
    "s = \"this is My First Python programming class and i am learNING python string and its function\"\n",
    "1 . Try to extract data from index one to index 300 with a jump of 3 \n",
    "2. Try to reverse a string without using reverse function \n",
    "3. Try to split a string after conversion of entire string in uppercase \n",
    "4. try to convert the whole string into lower case \n",
    "5 . Try to capitalize the whole string \n",
    "6 . Write a diference between isalnum() and isalpha()\n",
    "7. Try to give an example of expand tab\n",
    "8 . Give an example of strip , lstrip and rstrip \n",
    "9.  Replace a string charecter by another charector by taking your own example \n",
    "\"sudhanshu\"\n",
    "10 . Try  to give a defination of string center function with and exmple \n",
    "11 . Write your own definition of compiler and interpretor without copy paste form internet in your own language\n",
    "12 . Python is a interpreted of compiled language give a clear ans with your understanding \n",
    "13 . Try to write a usecase of python with your understanding .\n",
    "\n",
    "\n",
    "you have to send a jupyter notebook to shivan@ineuron.ai before next saturday class 21st of may . \n"
   ]
  },
  {
   "cell_type": "code",
   "execution_count": 161,
   "id": "331ef5bd",
   "metadata": {},
   "outputs": [],
   "source": [
    "roman=\"ↁ\""
   ]
  },
  {
   "cell_type": "code",
   "execution_count": 162,
   "id": "e4952a42",
   "metadata": {},
   "outputs": [
    {
     "data": {
      "text/plain": [
       "True"
      ]
     },
     "execution_count": 162,
     "metadata": {},
     "output_type": "execute_result"
    }
   ],
   "source": [
    "roman.isnumeric()"
   ]
  },
  {
   "cell_type": "code",
   "execution_count": 163,
   "id": "23076c2e",
   "metadata": {},
   "outputs": [
    {
     "data": {
      "text/plain": [
       "5"
      ]
     },
     "execution_count": 163,
     "metadata": {},
     "output_type": "execute_result"
    }
   ],
   "source": [
    "len(spl_line.splitlines())"
   ]
  },
  {
   "cell_type": "code",
   "execution_count": 164,
   "id": "2302bbc4",
   "metadata": {},
   "outputs": [
    {
     "data": {
      "text/plain": [
       "1675"
      ]
     },
     "execution_count": 164,
     "metadata": {},
     "output_type": "execute_result"
    }
   ],
   "source": [
    "len(spl_line)"
   ]
  },
  {
   "cell_type": "code",
   "execution_count": 165,
   "id": "fe5c968a",
   "metadata": {},
   "outputs": [],
   "source": [
    "s = \"this is My First Python programming class and i am learNING python string and its function\""
   ]
  },
  {
   "cell_type": "code",
   "execution_count": 166,
   "id": "cbac73ae",
   "metadata": {},
   "outputs": [
    {
     "data": {
      "text/plain": [
       "'noitcnuf sti dna gnirts nohtyp GNINrael ma i dna ssalc gnimmargorp nohtyP tsriF yM si siht'"
      ]
     },
     "execution_count": 166,
     "metadata": {},
     "output_type": "execute_result"
    }
   ],
   "source": [
    "s[::-1]"
   ]
  },
  {
   "cell_type": "code",
   "execution_count": 167,
   "id": "ce7b1473",
   "metadata": {},
   "outputs": [
    {
     "data": {
      "text/plain": [
       "'tssyityopgmncsa alrNph rgni ni'"
      ]
     },
     "execution_count": 167,
     "metadata": {},
     "output_type": "execute_result"
    }
   ],
   "source": [
    "s[0:300:3]"
   ]
  },
  {
   "cell_type": "code",
   "execution_count": 171,
   "id": "9bf32e91",
   "metadata": {},
   "outputs": [
    {
     "data": {
      "text/plain": [
       "['THIS',\n",
       " 'IS',\n",
       " 'MY',\n",
       " 'FIRST',\n",
       " 'PYTHON',\n",
       " 'PROGRAMMING',\n",
       " 'CLASS',\n",
       " 'AND',\n",
       " 'I',\n",
       " 'AM',\n",
       " 'LEARNING',\n",
       " 'PYTHON',\n",
       " 'STRING',\n",
       " 'AND',\n",
       " 'ITS',\n",
       " 'FUNCTION']"
      ]
     },
     "execution_count": 171,
     "metadata": {},
     "output_type": "execute_result"
    }
   ],
   "source": [
    "s.upper().split()"
   ]
  },
  {
   "cell_type": "code",
   "execution_count": 172,
   "id": "eaea25ac",
   "metadata": {},
   "outputs": [
    {
     "ename": "AttributeError",
     "evalue": "'list' object has no attribute 'upper'",
     "output_type": "error",
     "traceback": [
      "\u001b[1;31m---------------------------------------------------------------------------\u001b[0m",
      "\u001b[1;31mAttributeError\u001b[0m                            Traceback (most recent call last)",
      "\u001b[1;32m~\\AppData\\Local\\Temp/ipykernel_18936/1205971834.py\u001b[0m in \u001b[0;36m<module>\u001b[1;34m\u001b[0m\n\u001b[1;32m----> 1\u001b[1;33m \u001b[0ms\u001b[0m\u001b[1;33m.\u001b[0m\u001b[0msplit\u001b[0m\u001b[1;33m(\u001b[0m\u001b[1;33m)\u001b[0m\u001b[1;33m.\u001b[0m\u001b[0mupper\u001b[0m\u001b[1;33m(\u001b[0m\u001b[1;33m)\u001b[0m\u001b[1;33m\u001b[0m\u001b[1;33m\u001b[0m\u001b[0m\n\u001b[0m",
      "\u001b[1;31mAttributeError\u001b[0m: 'list' object has no attribute 'upper'"
     ]
    }
   ],
   "source": [
    "s.split().upper()"
   ]
  },
  {
   "cell_type": "code",
   "execution_count": 173,
   "id": "861478d2",
   "metadata": {},
   "outputs": [
    {
     "data": {
      "text/plain": [
       "'this is my first python programming class and i am learning python string and its function'"
      ]
     },
     "execution_count": 173,
     "metadata": {},
     "output_type": "execute_result"
    }
   ],
   "source": [
    "s.lower()"
   ]
  },
  {
   "cell_type": "code",
   "execution_count": 177,
   "id": "a4c4f711",
   "metadata": {},
   "outputs": [
    {
     "data": {
      "text/plain": [
       "'This is my first python programming class and i am learning python string and its function'"
      ]
     },
     "execution_count": 177,
     "metadata": {},
     "output_type": "execute_result"
    }
   ],
   "source": [
    "s.capitalize()"
   ]
  },
  {
   "cell_type": "code",
   "execution_count": 178,
   "id": "1ba5df14",
   "metadata": {},
   "outputs": [
    {
     "data": {
      "text/plain": [
       "'This Is My First Python Programming Class And I Am Learning Python String And Its Function'"
      ]
     },
     "execution_count": 178,
     "metadata": {},
     "output_type": "execute_result"
    }
   ],
   "source": [
    "s.title()"
   ]
  },
  {
   "cell_type": "code",
   "execution_count": 181,
   "id": "b1de854c",
   "metadata": {},
   "outputs": [],
   "source": [
    "strips=\"  rit    \""
   ]
  },
  {
   "cell_type": "code",
   "execution_count": 183,
   "id": "e21e7c31",
   "metadata": {},
   "outputs": [
    {
     "data": {
      "text/plain": [
       "'  rit'"
      ]
     },
     "execution_count": 183,
     "metadata": {},
     "output_type": "execute_result"
    }
   ],
   "source": [
    "strips.rstrip()"
   ]
  },
  {
   "cell_type": "code",
   "execution_count": 184,
   "id": "9b534ec2",
   "metadata": {},
   "outputs": [
    {
     "data": {
      "text/plain": [
       "'rit    '"
      ]
     },
     "execution_count": 184,
     "metadata": {},
     "output_type": "execute_result"
    }
   ],
   "source": [
    "strips.lstrip()"
   ]
  },
  {
   "cell_type": "code",
   "execution_count": 185,
   "id": "46f69af4",
   "metadata": {},
   "outputs": [
    {
     "data": {
      "text/plain": [
       "'rit'"
      ]
     },
     "execution_count": 185,
     "metadata": {},
     "output_type": "execute_result"
    }
   ],
   "source": [
    "strips.strip()"
   ]
  },
  {
   "cell_type": "code",
   "execution_count": 186,
   "id": "dd548e32",
   "metadata": {},
   "outputs": [],
   "source": [
    "su=\"sudhan\""
   ]
  },
  {
   "cell_type": "code",
   "execution_count": 189,
   "id": "e7ba5b5a",
   "metadata": {
    "scrolled": false
   },
   "outputs": [
    {
     "data": {
      "text/plain": [
       "'rakeshhan'"
      ]
     },
     "execution_count": 189,
     "metadata": {},
     "output_type": "execute_result"
    }
   ],
   "source": [
    "su.replace(\"sud\", \"rakesh\")"
   ]
  },
  {
   "cell_type": "code",
   "execution_count": 194,
   "id": "20cfb3b4",
   "metadata": {},
   "outputs": [
    {
     "data": {
      "text/plain": [
       "'rakeshn'"
      ]
     },
     "execution_count": 194,
     "metadata": {},
     "output_type": "execute_result"
    }
   ],
   "source": [
    "su.replace(\"sudha\", \"rakesh\",2)"
   ]
  },
  {
   "cell_type": "code",
   "execution_count": 205,
   "id": "62a81db0",
   "metadata": {},
   "outputs": [
    {
     "data": {
      "text/plain": [
       "'rakdhsu'"
      ]
     },
     "execution_count": 205,
     "metadata": {},
     "output_type": "execute_result"
    }
   ],
   "source": [
    "'sudhsu'.replace(\"su\",\"rak\",1)"
   ]
  },
  {
   "cell_type": "code",
   "execution_count": 199,
   "id": "4f47565f",
   "metadata": {},
   "outputs": [
    {
     "data": {
      "text/plain": [
       "'12.6'"
      ]
     },
     "execution_count": 199,
     "metadata": {},
     "output_type": "execute_result"
    }
   ],
   "source": [
    "d"
   ]
  },
  {
   "cell_type": "code",
   "execution_count": 206,
   "id": "01cc0144",
   "metadata": {
    "scrolled": true
   },
   "outputs": [
    {
     "data": {
      "text/plain": [
       "'rakdhrak'"
      ]
     },
     "execution_count": 206,
     "metadata": {},
     "output_type": "execute_result"
    }
   ],
   "source": [
    "'sudhsu'.replace(\"su\",\"rak\",2)"
   ]
  },
  {
   "cell_type": "code",
   "execution_count": 207,
   "id": "b232d35e",
   "metadata": {},
   "outputs": [
    {
     "data": {
      "text/plain": [
       "'sudhsu'"
      ]
     },
     "execution_count": 207,
     "metadata": {},
     "output_type": "execute_result"
    }
   ],
   "source": [
    "'sudhsu'.replace(\"su\",\"rak\",0)"
   ]
  },
  {
   "cell_type": "code",
   "execution_count": null,
   "id": "bfb2e9ac",
   "metadata": {},
   "outputs": [],
   "source": []
  }
 ],
 "metadata": {
  "kernelspec": {
   "display_name": "Python 3 (ipykernel)",
   "language": "python",
   "name": "python3"
  },
  "language_info": {
   "codemirror_mode": {
    "name": "ipython",
    "version": 3
   },
   "file_extension": ".py",
   "mimetype": "text/x-python",
   "name": "python",
   "nbconvert_exporter": "python",
   "pygments_lexer": "ipython3",
   "version": "3.9.7"
  }
 },
 "nbformat": 4,
 "nbformat_minor": 5
}
