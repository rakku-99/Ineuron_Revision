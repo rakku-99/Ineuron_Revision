{
 "cells": [
  {
   "cell_type": "code",
   "execution_count": 3,
   "id": "3a7b17a6",
   "metadata": {},
   "outputs": [
    {
     "data": {
      "text/plain": [
       "18"
      ]
     },
     "execution_count": 3,
     "metadata": {},
     "output_type": "execute_result"
    }
   ],
   "source": [
    "def add(a,b):\n",
    "    return a+b\n",
    "a=9\n",
    "add(a,9)"
   ]
  },
  {
   "cell_type": "code",
   "execution_count": 7,
   "id": "0b009bfc",
   "metadata": {},
   "outputs": [
    {
     "data": {
      "text/plain": [
       "'2sud'"
      ]
     },
     "execution_count": 7,
     "metadata": {},
     "output_type": "execute_result"
    }
   ],
   "source": [
    "add('2','sud')"
   ]
  },
  {
   "cell_type": "code",
   "execution_count": 8,
   "id": "053c203c",
   "metadata": {},
   "outputs": [
    {
     "data": {
      "text/plain": [
       "5"
      ]
     },
     "execution_count": 8,
     "metadata": {},
     "output_type": "execute_result"
    }
   ],
   "source": [
    "add(2,3)"
   ]
  },
  {
   "cell_type": "code",
   "execution_count": 9,
   "id": "62d54f57",
   "metadata": {},
   "outputs": [
    {
     "data": {
      "text/plain": [
       "'245'"
      ]
     },
     "execution_count": 9,
     "metadata": {},
     "output_type": "execute_result"
    }
   ],
   "source": [
    "add('2','45')"
   ]
  },
  {
   "cell_type": "code",
   "execution_count": 10,
   "id": "67cec758",
   "metadata": {},
   "outputs": [
    {
     "data": {
      "text/plain": [
       "5"
      ]
     },
     "execution_count": 10,
     "metadata": {},
     "output_type": "execute_result"
    }
   ],
   "source": [
    "add(b=2,a=3)"
   ]
  },
  {
   "cell_type": "code",
   "execution_count": 11,
   "id": "97f2de64",
   "metadata": {},
   "outputs": [],
   "source": [
    "def sub(a,b):\n",
    "    return a-b"
   ]
  },
  {
   "cell_type": "code",
   "execution_count": 12,
   "id": "658f9edc",
   "metadata": {},
   "outputs": [
    {
     "data": {
      "text/plain": [
       "-1"
      ]
     },
     "execution_count": 12,
     "metadata": {},
     "output_type": "execute_result"
    }
   ],
   "source": [
    "sub(2,3)"
   ]
  },
  {
   "cell_type": "code",
   "execution_count": 15,
   "id": "9686eb6b",
   "metadata": {},
   "outputs": [],
   "source": [
    "def test(a,b,n):\n",
    "    return a-b+n"
   ]
  },
  {
   "cell_type": "code",
   "execution_count": 16,
   "id": "d7987fcf",
   "metadata": {},
   "outputs": [
    {
     "data": {
      "text/plain": [
       "1"
      ]
     },
     "execution_count": 16,
     "metadata": {},
     "output_type": "execute_result"
    }
   ],
   "source": [
    "test(6,8,3)"
   ]
  },
  {
   "cell_type": "code",
   "execution_count": 17,
   "id": "7d943588",
   "metadata": {},
   "outputs": [
    {
     "data": {
      "text/plain": [
       "1"
      ]
     },
     "execution_count": 17,
     "metadata": {},
     "output_type": "execute_result"
    }
   ],
   "source": [
    "test(b=8,a=6,n=3)"
   ]
  },
  {
   "cell_type": "code",
   "execution_count": 18,
   "id": "cb96015b",
   "metadata": {},
   "outputs": [
    {
     "data": {
      "text/plain": [
       "5"
      ]
     },
     "execution_count": 18,
     "metadata": {},
     "output_type": "execute_result"
    }
   ],
   "source": [
    "test(8,6,3)"
   ]
  },
  {
   "cell_type": "code",
   "execution_count": 20,
   "id": "164d93a7",
   "metadata": {},
   "outputs": [
    {
     "name": "stdout",
     "output_type": "stream",
     "text": [
      "8\n"
     ]
    },
    {
     "data": {
      "text/plain": [
       "-3"
      ]
     },
     "execution_count": 20,
     "metadata": {},
     "output_type": "execute_result"
    }
   ],
   "source": [
    "print(add(3,5))\n",
    "sub(3,6)"
   ]
  },
  {
   "cell_type": "code",
   "execution_count": 21,
   "id": "21713926",
   "metadata": {},
   "outputs": [],
   "source": [
    "def multiple_parameters(*rakesh):\n",
    "    return rakesh"
   ]
  },
  {
   "cell_type": "code",
   "execution_count": 24,
   "id": "6fdd57c8",
   "metadata": {},
   "outputs": [
    {
     "data": {
      "text/plain": [
       "(2, 5)"
      ]
     },
     "execution_count": 24,
     "metadata": {},
     "output_type": "execute_result"
    }
   ],
   "source": [
    "multiple_parameters(2,5)"
   ]
  },
  {
   "cell_type": "code",
   "execution_count": 28,
   "id": "39c0ef45",
   "metadata": {},
   "outputs": [],
   "source": [
    "def append_list(*):\n",
    "    l=[]\n",
    "    for i in a:\n",
    "        l.append(i)\n",
    "    return l"
   ]
  },
  {
   "cell_type": "code",
   "execution_count": 29,
   "id": "77591954",
   "metadata": {},
   "outputs": [
    {
     "data": {
      "text/plain": [
       "[2, 3, 4, 5, 6, 777, [244, 42, 4, 525, 'd']]"
      ]
     },
     "execution_count": 29,
     "metadata": {},
     "output_type": "execute_result"
    }
   ],
   "source": [
    "append_list(2,3,4,5,6,777,[244,42,4,525,'d'])"
   ]
  },
  {
   "cell_type": "code",
   "execution_count": 32,
   "id": "4701b276",
   "metadata": {},
   "outputs": [
    {
     "data": {
      "text/plain": [
       "(2, 3, 4, 5, (66, 7, 7))"
      ]
     },
     "execution_count": 32,
     "metadata": {},
     "output_type": "execute_result"
    }
   ],
   "source": [
    "def mix(a,b,c,d,*m):\n",
    "    return a,b,c,d,m"
   ]
  },
  {
   "cell_type": "code",
   "execution_count": 31,
   "id": "94796791",
   "metadata": {},
   "outputs": [
    {
     "data": {
      "text/plain": [
       "(2, 3, 4, 5, (66, 7, 7))"
      ]
     },
     "execution_count": 31,
     "metadata": {},
     "output_type": "execute_result"
    }
   ],
   "source": [
    "mix(2,3,4,5,66,7,7)"
   ]
  },
  {
   "cell_type": "code",
   "execution_count": 33,
   "id": "f55d0507",
   "metadata": {},
   "outputs": [
    {
     "ename": "TypeError",
     "evalue": "mix() got multiple values for argument 'a'",
     "output_type": "error",
     "traceback": [
      "\u001b[1;31m---------------------------------------------------------------------------\u001b[0m",
      "\u001b[1;31mTypeError\u001b[0m                                 Traceback (most recent call last)",
      "\u001b[1;32m~\\AppData\\Local\\Temp/ipykernel_11648/3858648208.py\u001b[0m in \u001b[0;36m<module>\u001b[1;34m\u001b[0m\n\u001b[1;32m----> 1\u001b[1;33m \u001b[0mmix\u001b[0m\u001b[1;33m(\u001b[0m\u001b[1;36m2\u001b[0m\u001b[1;33m,\u001b[0m\u001b[1;36m3\u001b[0m\u001b[1;33m,\u001b[0m\u001b[1;36m4\u001b[0m\u001b[1;33m,\u001b[0m\u001b[1;36m5\u001b[0m\u001b[1;33m,\u001b[0m\u001b[1;36m66\u001b[0m\u001b[1;33m,\u001b[0m\u001b[0ma\u001b[0m\u001b[1;33m=\u001b[0m\u001b[1;36m7\u001b[0m\u001b[1;33m,\u001b[0m\u001b[0mb\u001b[0m\u001b[1;33m=\u001b[0m\u001b[1;36m7\u001b[0m\u001b[1;33m)\u001b[0m\u001b[1;33m\u001b[0m\u001b[1;33m\u001b[0m\u001b[0m\n\u001b[0m",
      "\u001b[1;31mTypeError\u001b[0m: mix() got multiple values for argument 'a'"
     ]
    }
   ],
   "source": [
    "mix(2,3,4,5,66,a=7,b=7)"
   ]
  },
  {
   "cell_type": "code",
   "execution_count": 42,
   "id": "c4e5ba14",
   "metadata": {},
   "outputs": [
    {
     "ename": "TypeError",
     "evalue": "mix() got multiple values for argument 'a'",
     "output_type": "error",
     "traceback": [
      "\u001b[1;31m---------------------------------------------------------------------------\u001b[0m",
      "\u001b[1;31mTypeError\u001b[0m                                 Traceback (most recent call last)",
      "\u001b[1;32m~\\AppData\\Local\\Temp/ipykernel_11648/3491923082.py\u001b[0m in \u001b[0;36m<module>\u001b[1;34m\u001b[0m\n\u001b[1;32m----> 1\u001b[1;33m \u001b[0mmix\u001b[0m\u001b[1;33m(\u001b[0m\u001b[1;36m2\u001b[0m\u001b[1;33m,\u001b[0m\u001b[1;36m3\u001b[0m\u001b[1;33m,\u001b[0m\u001b[1;36m4\u001b[0m\u001b[1;33m,\u001b[0m\u001b[0ma\u001b[0m\u001b[1;33m=\u001b[0m\u001b[1;36m7\u001b[0m\u001b[1;33m,\u001b[0m\u001b[0mb\u001b[0m\u001b[1;33m=\u001b[0m\u001b[1;36m7\u001b[0m\u001b[1;33m,\u001b[0m\u001b[0mc\u001b[0m\u001b[1;33m=\u001b[0m\u001b[1;36m66\u001b[0m\u001b[1;33m,\u001b[0m\u001b[0md\u001b[0m\u001b[1;33m=\u001b[0m\u001b[1;36m5\u001b[0m\u001b[1;33m)\u001b[0m\u001b[1;33m\u001b[0m\u001b[1;33m\u001b[0m\u001b[0m\n\u001b[0m",
      "\u001b[1;31mTypeError\u001b[0m: mix() got multiple values for argument 'a'"
     ]
    }
   ],
   "source": [
    "mix(2,3,4,a=7,b=7,c=66,d=5)"
   ]
  },
  {
   "cell_type": "code",
   "execution_count": 49,
   "id": "63b555b3",
   "metadata": {},
   "outputs": [
    {
     "ename": "SyntaxError",
     "evalue": "positional argument follows keyword argument (Temp/ipykernel_11648/2857887869.py, line 1)",
     "output_type": "error",
     "traceback": [
      "\u001b[1;36m  File \u001b[1;32m\"C:\\Users\\rakes\\AppData\\Local\\Temp/ipykernel_11648/2857887869.py\"\u001b[1;36m, line \u001b[1;32m1\u001b[0m\n\u001b[1;33m    mix(a=3,b=5,c=3,d=32,(7824,7,98,8))\u001b[0m\n\u001b[1;37m                                      ^\u001b[0m\n\u001b[1;31mSyntaxError\u001b[0m\u001b[1;31m:\u001b[0m positional argument follows keyword argument\n"
     ]
    }
   ],
   "source": [
    "mix(a=3,b=5,c=3,d=32,7824,7,98,8)"
   ]
  },
  {
   "cell_type": "code",
   "execution_count": 53,
   "id": "4e01da7f",
   "metadata": {},
   "outputs": [
    {
     "ename": "TypeError",
     "evalue": "mix() got an unexpected keyword argument 'm'",
     "output_type": "error",
     "traceback": [
      "\u001b[1;31m---------------------------------------------------------------------------\u001b[0m",
      "\u001b[1;31mTypeError\u001b[0m                                 Traceback (most recent call last)",
      "\u001b[1;32m~\\AppData\\Local\\Temp/ipykernel_11648/3751608005.py\u001b[0m in \u001b[0;36m<module>\u001b[1;34m\u001b[0m\n\u001b[1;32m----> 1\u001b[1;33m \u001b[0mmix\u001b[0m\u001b[1;33m(\u001b[0m\u001b[0ma\u001b[0m\u001b[1;33m=\u001b[0m\u001b[1;36m2\u001b[0m\u001b[1;33m,\u001b[0m\u001b[0mb\u001b[0m\u001b[1;33m=\u001b[0m\u001b[1;36m3\u001b[0m\u001b[1;33m,\u001b[0m\u001b[0mc\u001b[0m\u001b[1;33m=\u001b[0m\u001b[1;36m4\u001b[0m\u001b[1;33m,\u001b[0m\u001b[0md\u001b[0m\u001b[1;33m=\u001b[0m\u001b[1;36m5\u001b[0m\u001b[1;33m,\u001b[0m\u001b[0mm\u001b[0m\u001b[1;33m=\u001b[0m\u001b[1;36m66\u001b[0m\u001b[1;33m)\u001b[0m\u001b[1;33m\u001b[0m\u001b[1;33m\u001b[0m\u001b[0m\n\u001b[0m",
      "\u001b[1;31mTypeError\u001b[0m: mix() got an unexpected keyword argument 'm'"
     ]
    }
   ],
   "source": [
    "mix(a=2,b=3,c=4,d=5,66,7,7)"
   ]
  },
  {
   "cell_type": "code",
   "execution_count": 58,
   "id": "c660b6fd",
   "metadata": {},
   "outputs": [
    {
     "data": {
      "text/plain": [
       "(2, 3, 4, 5, (66, 7, 7))"
      ]
     },
     "execution_count": 58,
     "metadata": {},
     "output_type": "execute_result"
    }
   ],
   "source": [
    "def mix_m_a(*m,a,b,c,d):\n",
    "    return a,b,c,d,m\n",
    "mix_m_a(66,7,7,a=2,b=3,c=4,d=5)"
   ]
  },
  {
   "cell_type": "code",
   "execution_count": 59,
   "id": "f86577fd",
   "metadata": {},
   "outputs": [
    {
     "ename": "SyntaxError",
     "evalue": "positional argument follows keyword argument (Temp/ipykernel_11648/2847271499.py, line 3)",
     "output_type": "error",
     "traceback": [
      "\u001b[1;36m  File \u001b[1;32m\"C:\\Users\\rakes\\AppData\\Local\\Temp/ipykernel_11648/2847271499.py\"\u001b[1;36m, line \u001b[1;32m3\u001b[0m\n\u001b[1;33m    mix_m_a(a=2,b=3,c=4,d=5,66,7,7)\u001b[0m\n\u001b[1;37m                                  ^\u001b[0m\n\u001b[1;31mSyntaxError\u001b[0m\u001b[1;31m:\u001b[0m positional argument follows keyword argument\n"
     ]
    }
   ],
   "source": [
    "def mix_m_a(*m,a,b,c,d):\n",
    "    return a,b,c,d,m\n",
    "mix_m_a(a=2,b=3,c=4,d=5,66,7,7)"
   ]
  },
  {
   "cell_type": "code",
   "execution_count": 62,
   "id": "d7a1686d",
   "metadata": {},
   "outputs": [
    {
     "data": {
      "text/plain": [
       "{}"
      ]
     },
     "execution_count": 62,
     "metadata": {},
     "output_type": "execute_result"
    }
   ],
   "source": [
    "def key_value_pair(**rak): \n",
    "    return rak\n",
    "key_value_pair()"
   ]
  },
  {
   "cell_type": "code",
   "execution_count": 63,
   "id": "eb29f63b",
   "metadata": {},
   "outputs": [
    {
     "data": {
      "text/plain": [
       "{'s': 3, 'w': 4}"
      ]
     },
     "execution_count": 63,
     "metadata": {},
     "output_type": "execute_result"
    }
   ],
   "source": [
    "key_value_pair(s=3,w=4)"
   ]
  },
  {
   "cell_type": "code",
   "execution_count": 64,
   "id": "7571d304",
   "metadata": {},
   "outputs": [
    {
     "data": {
      "text/plain": [
       "{'s': 3, 'w': 4, 'a': 2, 'b': 3, 'c': 4, 'd': 5, 'n': [2, 'fg', 4]}"
      ]
     },
     "execution_count": 64,
     "metadata": {},
     "output_type": "execute_result"
    }
   ],
   "source": [
    "key_value_pair(s=3,w=4,a=2,b=3,c=4,d=5, n=[2,'fg',4,])"
   ]
  },
  {
   "cell_type": "code",
   "execution_count": 65,
   "id": "0a7d5ab1",
   "metadata": {},
   "outputs": [
    {
     "ename": "SyntaxError",
     "evalue": "invalid syntax (Temp/ipykernel_11648/1390470640.py, line 1)",
     "output_type": "error",
     "traceback": [
      "\u001b[1;36m  File \u001b[1;32m\"C:\\Users\\rakes\\AppData\\Local\\Temp/ipykernel_11648/1390470640.py\"\u001b[1;36m, line \u001b[1;32m1\u001b[0m\n\u001b[1;33m    def mul_kv(**m,*n):\u001b[0m\n\u001b[1;37m                   ^\u001b[0m\n\u001b[1;31mSyntaxError\u001b[0m\u001b[1;31m:\u001b[0m invalid syntax\n"
     ]
    }
   ],
   "source": [
    "def mul_kv(**m,*n):\n",
    "    return n,m"
   ]
  },
  {
   "cell_type": "code",
   "execution_count": 66,
   "id": "0b9129e3",
   "metadata": {},
   "outputs": [
    {
     "ename": "SyntaxError",
     "evalue": "invalid syntax (Temp/ipykernel_11648/3392861723.py, line 1)",
     "output_type": "error",
     "traceback": [
      "\u001b[1;36m  File \u001b[1;32m\"C:\\Users\\rakes\\AppData\\Local\\Temp/ipykernel_11648/3392861723.py\"\u001b[1;36m, line \u001b[1;32m1\u001b[0m\n\u001b[1;33m    def mul_kv(**m,*n):\u001b[0m\n\u001b[1;37m                   ^\u001b[0m\n\u001b[1;31mSyntaxError\u001b[0m\u001b[1;31m:\u001b[0m invalid syntax\n"
     ]
    }
   ],
   "source": [
    "def mul_kv(**m,*n):\n",
    "    return m,n"
   ]
  },
  {
   "cell_type": "code",
   "execution_count": 68,
   "id": "d0ebd2d0",
   "metadata": {},
   "outputs": [
    {
     "data": {
      "text/plain": [
       "((342, 5, 336, 5, 6), {'a': 'e', 'b': 4, 'h': 6})"
      ]
     },
     "execution_count": 68,
     "metadata": {},
     "output_type": "execute_result"
    }
   ],
   "source": [
    "def mul_kv(*m,**n):\n",
    "    return m,n\n",
    "mul_kv(342,5,336,5,6,a='e',b=4,h=6)"
   ]
  },
  {
   "cell_type": "code",
   "execution_count": 75,
   "id": "ff014f81",
   "metadata": {},
   "outputs": [
    {
     "data": {
      "text/plain": [
       "32"
      ]
     },
     "execution_count": 75,
     "metadata": {},
     "output_type": "execute_result"
    }
   ],
   "source": [
    "#sum of mltiple inputs\n",
    "def sum(*m): \n",
    "    n=0\n",
    "    for i in m:\n",
    "        if type(i)==int:\n",
    "            n=n+i\n",
    "    return n\n",
    "sum(2,4,5,6,7,8) "
   ]
  },
  {
   "cell_type": "code",
   "execution_count": 72,
   "id": "703d9a6a",
   "metadata": {},
   "outputs": [
    {
     "data": {
      "text/plain": [
       "240"
      ]
     },
     "execution_count": 72,
     "metadata": {},
     "output_type": "execute_result"
    }
   ],
   "source": [
    "#multiply of mltiple inputs\n",
    "def multply(*m):\n",
    "    n=1\n",
    "    for i in m:\n",
    "        if type(i)==int:\n",
    "            n=n*i\n",
    "    return n\n",
    "multply(2,4,5,6)"
   ]
  },
  {
   "cell_type": "code",
   "execution_count": 76,
   "id": "856bf90e",
   "metadata": {},
   "outputs": [],
   "source": [
    "# anonymous fn\n",
    "lf = lambda a: a*3"
   ]
  },
  {
   "cell_type": "code",
   "execution_count": 78,
   "id": "f0e9b76c",
   "metadata": {},
   "outputs": [
    {
     "data": {
      "text/plain": [
       "27"
      ]
     },
     "execution_count": 78,
     "metadata": {},
     "output_type": "execute_result"
    }
   ],
   "source": [
    "lf(9)"
   ]
  },
  {
   "cell_type": "markdown",
   "id": "1c0e3fd9",
   "metadata": {},
   "source": [
    "# comprehension operation"
   ]
  },
  {
   "cell_type": "code",
   "execution_count": 82,
   "id": "3c882d86",
   "metadata": {},
   "outputs": [
    {
     "data": {
      "text/plain": [
       "[3, 4, 5, 6, 6, 7, 6, 67]"
      ]
     },
     "execution_count": 82,
     "metadata": {},
     "output_type": "execute_result"
    }
   ],
   "source": [
    "# convert tuple in list\n",
    "t = (3,4,5,6,6,7,6,67)\n",
    "l=[]\n",
    "for i in t:\n",
    "    l.append(i)\n",
    "l"
   ]
  },
  {
   "cell_type": "code",
   "execution_count": 83,
   "id": "fbc7e0ab",
   "metadata": {},
   "outputs": [
    {
     "data": {
      "text/plain": [
       "[3, 4, 5, 6, 6, 7, 6, 67]"
      ]
     },
     "execution_count": 83,
     "metadata": {},
     "output_type": "execute_result"
    }
   ],
   "source": [
    "# list comprehension opertn\n",
    "[i for i in t]"
   ]
  },
  {
   "cell_type": "code",
   "execution_count": 85,
   "id": "64c19b62",
   "metadata": {},
   "outputs": [
    {
     "data": {
      "text/plain": [
       "['r', 'a', 'k']"
      ]
     },
     "execution_count": 85,
     "metadata": {},
     "output_type": "execute_result"
    }
   ],
   "source": [
    "s='rak'\n",
    "[i for i in s]"
   ]
  },
  {
   "cell_type": "code",
   "execution_count": 86,
   "id": "941a1f6e",
   "metadata": {},
   "outputs": [
    {
     "data": {
      "text/plain": [
       "[0, 1, 4, 9, 16]"
      ]
     },
     "execution_count": 86,
     "metadata": {},
     "output_type": "execute_result"
    }
   ],
   "source": [
    "[i*i for i in range(5)]"
   ]
  },
  {
   "cell_type": "code",
   "execution_count": 89,
   "id": "68547ce0",
   "metadata": {},
   "outputs": [
    {
     "data": {
      "text/plain": [
       "[16, 36, 16, 4]"
      ]
     },
     "execution_count": 89,
     "metadata": {},
     "output_type": "execute_result"
    }
   ],
   "source": [
    "l = lambda *x: [i**2 for i in x]\n",
    "l(4,6,4,2)"
   ]
  },
  {
   "cell_type": "code",
   "execution_count": 95,
   "id": "d1d393c8",
   "metadata": {},
   "outputs": [
    {
     "name": "stdout",
     "output_type": "stream",
     "text": [
      "{'a': 7, 'b': 9, 'c': 'ki', 'l': [2, 3, 4, 'igy']} \n",
      "\n",
      "dict_values([7, 9, 'ki', [2, 3, 4, 'igy']])\n"
     ]
    },
    {
     "data": {
      "text/plain": [
       "2"
      ]
     },
     "execution_count": 95,
     "metadata": {},
     "output_type": "execute_result"
    }
   ],
   "source": [
    "#multiple key value pair, how many string passed\n",
    "def no_str_dict(**kvp):\n",
    "    count = 0\n",
    "    print(kvp,'\\n')\n",
    "    print(kvp.values())\n",
    "    for v in kvp.values():\n",
    "        if type(v) == str or type(v)==list:\n",
    "            count+=1\n",
    "    return count\n",
    "no_str_dict(a=7,b=9,c=\"ki\",l=[2,3,4,\"igy\"])"
   ]
  },
  {
   "cell_type": "code",
   "execution_count": 3,
   "id": "3bbcd919",
   "metadata": {},
   "outputs": [
    {
     "data": {
      "text/plain": [
       "[7, 9, 'ki', [2, 3, 4, 'igy']]"
      ]
     },
     "execution_count": 3,
     "metadata": {},
     "output_type": "execute_result"
    }
   ],
   "source": [
    "# list of all data\n",
    "def list_all(**kw):\n",
    "    return list(kw.values())\n",
    "list_all(a=7,b=9,c=\"ki\",l=[2,3,4,\"igy\"])"
   ]
  },
  {
   "cell_type": "code",
   "execution_count": 5,
   "id": "e8371859",
   "metadata": {},
   "outputs": [
    {
     "data": {
      "text/plain": [
       "(8, 8, 9, 9, 7, 7, 7, 3, 5, 7, 5)"
      ]
     },
     "execution_count": 5,
     "metadata": {},
     "output_type": "execute_result"
    }
   ],
   "source": [
    "def test5(*a,x,y,z):\n",
    "    return *a,x,y,z,\n",
    "test5 (8,8,9,9,7,7,7,3,x=5,y=7,z=5)"
   ]
  },
  {
   "cell_type": "code",
   "execution_count": 6,
   "id": "cbea141d",
   "metadata": {},
   "outputs": [
    {
     "data": {
      "text/plain": [
       "[2, 3, 2, 3, 2, 3]"
      ]
     },
     "execution_count": 6,
     "metadata": {},
     "output_type": "execute_result"
    }
   ],
   "source": [
    "m=3\n",
    "b = lambda *args : m*[i for i in args]\n",
    "b(2,3)"
   ]
  },
  {
   "cell_type": "code",
   "execution_count": 23,
   "id": "6360647b",
   "metadata": {},
   "outputs": [
    {
     "data": {
      "text/plain": [
       "[6, 9]"
      ]
     },
     "execution_count": 23,
     "metadata": {},
     "output_type": "execute_result"
    }
   ],
   "source": [
    "m=3\n",
    "b = lambda *args : [m*i for i in args]\n",
    "b(2,3)"
   ]
  },
  {
   "cell_type": "code",
   "execution_count": 16,
   "id": "5d2d5c79",
   "metadata": {},
   "outputs": [
    {
     "name": "stdout",
     "output_type": "stream",
     "text": [
      "       \n",
      "\n",
      "     Rakesh \n",
      "\n",
      "    RakeshRakesh \n",
      "\n",
      "   RakeshRakeshRakesh \n",
      "\n",
      "  RakeshRakeshRakeshRakesh \n",
      "\n",
      " RakeshRakeshRakeshRakeshRakesh \n",
      "\n",
      "RakeshRakeshRakeshRakeshRakeshRakesh \n",
      "\n"
     ]
    }
   ],
   "source": [
    "r=\"Rakesh\"\n",
    "for i in range(len(r)+1):\n",
    "    print(\" \"*(len(r)-i) + r *i,\"\\n\")"
   ]
  },
  {
   "cell_type": "code",
   "execution_count": 17,
   "id": "36af5368",
   "metadata": {},
   "outputs": [
    {
     "name": "stdout",
     "output_type": "stream",
     "text": [
      "[3, 4, 5, 6, 78]\n"
     ]
    }
   ],
   "source": [
    "t = (3, 4, 5, 6, 78)\n",
    "l = [i for i in t]\n",
    "print(l)"
   ]
  },
  {
   "cell_type": "code",
   "execution_count": 20,
   "id": "5a47c7c1",
   "metadata": {},
   "outputs": [],
   "source": [
    "t = (3, 4, 5, 6, 78)\n",
    "ab = list(j for j in t)\n",
    "ab"
   ]
  },
  {
   "cell_type": "code",
   "execution_count": 21,
   "id": "08bcfe0b",
   "metadata": {},
   "outputs": [
    {
     "data": {
      "text/plain": [
       "[3, 4, 5, 6, 78]"
      ]
     },
     "execution_count": 21,
     "metadata": {},
     "output_type": "execute_result"
    }
   ],
   "source": [
    "ab"
   ]
  },
  {
   "cell_type": "code",
   "execution_count": null,
   "id": "9d69b450",
   "metadata": {},
   "outputs": [],
   "source": [
    "find_status= lambda a: 'Low' if (a<5000) elif a>=5000 and a<=25000 'Standard' else 'High'"
   ]
  },
  {
   "cell_type": "code",
   "execution_count": 25,
   "id": "599dbe1c",
   "metadata": {},
   "outputs": [
    {
     "name": "stdout",
     "output_type": "stream",
     "text": [
      "r*kesh\n",
      "rak*sh\n"
     ]
    }
   ],
   "source": [
    "s=\"rakesh\"\n",
    "a=0 \n",
    "v='aeiou'\n",
    "while a < len(s):\n",
    "    if s[a] in v :\n",
    "        print(s.replace(s[a] ,\"*\"))\n",
    "    a = a + 1"
   ]
  },
  {
   "cell_type": "code",
   "execution_count": 30,
   "id": "974a2115",
   "metadata": {},
   "outputs": [],
   "source": [
    "s=\"rakesh\"\n",
    "a=0 \n",
    "v='aeiou'\n",
    "while a < len(s):\n",
    "    if s[a] in v :\n",
    "        s.replace(s[a] ,\"*\")\n",
    "    a = a + 1"
   ]
  },
  {
   "cell_type": "code",
   "execution_count": 31,
   "id": "e5902bd2",
   "metadata": {},
   "outputs": [
    {
     "data": {
      "text/plain": [
       "'rakesh'"
      ]
     },
     "execution_count": 31,
     "metadata": {},
     "output_type": "execute_result"
    }
   ],
   "source": [
    "s"
   ]
  },
  {
   "cell_type": "code",
   "execution_count": 49,
   "id": "7fd5f67b",
   "metadata": {
    "scrolled": true
   },
   "outputs": [
    {
     "ename": "SyntaxError",
     "evalue": "invalid syntax (Temp/ipykernel_26308/3810215778.py, line 2)",
     "output_type": "error",
     "traceback": [
      "\u001b[1;36m  File \u001b[1;32m\"C:\\Users\\rakes\\AppData\\Local\\Temp/ipykernel_26308/3810215778.py\"\u001b[1;36m, line \u001b[1;32m2\u001b[0m\n\u001b[1;33m    alpha = lambda *a: [s.replace('a',\"*\"),s.replace('e',\"*\") for i in s]\u001b[0m\n\u001b[1;37m                                                              ^\u001b[0m\n\u001b[1;31mSyntaxError\u001b[0m\u001b[1;31m:\u001b[0m invalid syntax\n"
     ]
    }
   ],
   "source": [
    "s=\"rakesh\"\n",
    "alpha = lambda *a: [s.replace('a',\"*\"),s.replace('e',\"*\") for i in s]\n",
    "set(alpha())"
   ]
  },
  {
   "cell_type": "code",
   "execution_count": null,
   "id": "bf76c8ca",
   "metadata": {},
   "outputs": [],
   "source": [
    "  q1 : pint a prime number in between 1 to 1000\n",
    "    q2 : a function which  is equivalent  to print function in python\n",
    "    q3 :a function which is a replica of list append , extend and pop function \n",
    "    q4 : Try to write a lambda function which can return a concatination of all the string that we will pass\n",
    "    q5 : Try to write a lambda function which can return list of square of all the data between 1-100 \n",
    "    q6 : Try to write a 10 Different different example of lambda function with a choice of your taks \n",
    "    q7 : Try to wwrite a funtion whihc can perform a read operation from .txt file \n"
   ]
  },
  {
   "cell_type": "code",
   "execution_count": 37,
   "id": "3837ef98",
   "metadata": {},
   "outputs": [],
   "source": [
    "l=[]\n",
    "s=\"rakesh\"\n",
    "a=0 \n",
    "v='aeiou'\n",
    "while a < len(s):\n",
    "    if s[a] in v :\n",
    "        s.replace(s[a] ,\"*\")\n",
    "    a = a + 1"
   ]
  },
  {
   "cell_type": "code",
   "execution_count": 40,
   "id": "6892bc53",
   "metadata": {},
   "outputs": [],
   "source": [
    "s_l=list(s)"
   ]
  },
  {
   "cell_type": "code",
   "execution_count": 44,
   "id": "a2e0ccda",
   "metadata": {},
   "outputs": [
    {
     "ename": "SyntaxError",
     "evalue": "iterable argument unpacking follows keyword argument unpacking (Temp/ipykernel_26308/4137241800.py, line 1)",
     "output_type": "error",
     "traceback": [
      "\u001b[1;36m  File \u001b[1;32m\"C:\\Users\\rakes\\AppData\\Local\\Temp/ipykernel_26308/4137241800.py\"\u001b[1;36m, line \u001b[1;32m1\u001b[0m\n\u001b[1;33m    s_l.replace('a',*)\u001b[0m\n\u001b[1;37m                     ^\u001b[0m\n\u001b[1;31mSyntaxError\u001b[0m\u001b[1;31m:\u001b[0m iterable argument unpacking follows keyword argument unpacking\n"
     ]
    }
   ],
   "source": [
    "[for i in "
   ]
  },
  {
   "cell_type": "code",
   "execution_count": 50,
   "id": "02e23d32",
   "metadata": {},
   "outputs": [
    {
     "name": "stdout",
     "output_type": "stream",
     "text": [
      "*jezon\n",
      "aj*zon\n",
      "ajez*n\n",
      "['*jezon', '*jezon', 'aj*zon', 'aj*zon', 'ajez*n', 'ajez*n']\n"
     ]
    }
   ],
   "source": [
    "s=\"ajezon\"\n",
    "a=0\n",
    "v='aeiou'\n",
    "n=[]\n",
    "while a < len(s):\n",
    "    if s[a] in v :\n",
    "        d=s.replace(s[a] ,\"*\")\n",
    "        print(s.replace(s[a] ,\"*\"))\n",
    "    a = a + 1\n",
    "    n.append(d)\n",
    "print(n)"
   ]
  },
  {
   "cell_type": "code",
   "execution_count": 51,
   "id": "307c6d3a",
   "metadata": {},
   "outputs": [
    {
     "name": "stdout",
     "output_type": "stream",
     "text": [
      "*jezon\n",
      "aj*zon\n",
      "ajez*n\n",
      "['aj*zon', 'ajez*n', '*jezon']\n"
     ]
    }
   ],
   "source": [
    "s=\"ajezon\"\n",
    "a=0\n",
    "v='aeiou'\n",
    "n=[]\n",
    "while a < len(s):\n",
    "    if s[a] in v :\n",
    "        d=s.replace(s[a] ,\"*\")\n",
    "        print(s.replace(s[a] ,\"*\"))\n",
    "    a = a + 1\n",
    "    n.append(d)\n",
    "print(list(set(n)))"
   ]
  },
  {
   "cell_type": "code",
   "execution_count": 15,
   "id": "80c2b953",
   "metadata": {},
   "outputs": [],
   "source": [
    "def anti_vowel(s):\n",
    "    s=str(input('Enter str for anti vowel- '))\n",
    "    a=0\n",
    "    v='aeiou'\n",
    "    for i in v:\n",
    "        if i == s[a]:\n",
    "            s=s.replace(s[a],\"*\")\n",
    "        else:\n",
    "            print('holi')\n",
    "        a+=1\n",
    "    return s"
   ]
  },
  {
   "cell_type": "code",
   "execution_count": 18,
   "id": "e0fe92c1",
   "metadata": {
    "scrolled": true
   },
   "outputs": [
    {
     "name": "stdout",
     "output_type": "stream",
     "text": [
      "Enter str for anti vowel- uy\n",
      "holi\n",
      "holi\n"
     ]
    },
    {
     "ename": "IndexError",
     "evalue": "string index out of range",
     "output_type": "error",
     "traceback": [
      "\u001b[1;31m---------------------------------------------------------------------------\u001b[0m",
      "\u001b[1;31mIndexError\u001b[0m                                Traceback (most recent call last)",
      "\u001b[1;32m~\\AppData\\Local\\Temp/ipykernel_2172/4267081736.py\u001b[0m in \u001b[0;36m<module>\u001b[1;34m\u001b[0m\n\u001b[1;32m----> 1\u001b[1;33m \u001b[0manti_vowel\u001b[0m\u001b[1;33m(\u001b[0m\u001b[1;34m'ju'\u001b[0m\u001b[1;33m)\u001b[0m\u001b[1;33m\u001b[0m\u001b[1;33m\u001b[0m\u001b[0m\n\u001b[0m",
      "\u001b[1;32m~\\AppData\\Local\\Temp/ipykernel_2172/1609358955.py\u001b[0m in \u001b[0;36manti_vowel\u001b[1;34m(s)\u001b[0m\n\u001b[0;32m      4\u001b[0m     \u001b[0mv\u001b[0m\u001b[1;33m=\u001b[0m\u001b[1;34m'aeiou'\u001b[0m\u001b[1;33m\u001b[0m\u001b[1;33m\u001b[0m\u001b[0m\n\u001b[0;32m      5\u001b[0m     \u001b[1;32mfor\u001b[0m \u001b[0mi\u001b[0m \u001b[1;32min\u001b[0m \u001b[0mv\u001b[0m\u001b[1;33m:\u001b[0m\u001b[1;33m\u001b[0m\u001b[1;33m\u001b[0m\u001b[0m\n\u001b[1;32m----> 6\u001b[1;33m         \u001b[1;32mif\u001b[0m \u001b[0mi\u001b[0m \u001b[1;33m==\u001b[0m \u001b[0ms\u001b[0m\u001b[1;33m[\u001b[0m\u001b[0ma\u001b[0m\u001b[1;33m]\u001b[0m\u001b[1;33m:\u001b[0m\u001b[1;33m\u001b[0m\u001b[1;33m\u001b[0m\u001b[0m\n\u001b[0m\u001b[0;32m      7\u001b[0m             \u001b[0ms\u001b[0m\u001b[1;33m=\u001b[0m\u001b[0ms\u001b[0m\u001b[1;33m.\u001b[0m\u001b[0mreplace\u001b[0m\u001b[1;33m(\u001b[0m\u001b[0ms\u001b[0m\u001b[1;33m[\u001b[0m\u001b[0ma\u001b[0m\u001b[1;33m]\u001b[0m\u001b[1;33m,\u001b[0m\u001b[1;34m\"*\"\u001b[0m\u001b[1;33m)\u001b[0m\u001b[1;33m\u001b[0m\u001b[1;33m\u001b[0m\u001b[0m\n\u001b[0;32m      8\u001b[0m         \u001b[1;32melse\u001b[0m\u001b[1;33m:\u001b[0m\u001b[1;33m\u001b[0m\u001b[1;33m\u001b[0m\u001b[0m\n",
      "\u001b[1;31mIndexError\u001b[0m: string index out of range"
     ]
    }
   ],
   "source": [
    "anti_vowel('ju')"
   ]
  },
  {
   "cell_type": "code",
   "execution_count": 21,
   "id": "3a01547e",
   "metadata": {},
   "outputs": [],
   "source": [
    "def anti_vowel():\n",
    "    s=str(input('Enter str for anti vowel- '))\n",
    "    a=0\n",
    "    v='aeiou'\n",
    "    while a < len(s):\n",
    "        if s[a] in v:\n",
    "            s=s.replace(s[a],\"*\")\n",
    "        else:\n",
    "            print('holi')\n",
    "        a+=1\n",
    "    return s"
   ]
  },
  {
   "cell_type": "code",
   "execution_count": 22,
   "id": "fd5d9739",
   "metadata": {},
   "outputs": [
    {
     "name": "stdout",
     "output_type": "stream",
     "text": [
      "Enter str for anti vowel- sitamo\n",
      "holi\n",
      "holi\n",
      "holi\n"
     ]
    },
    {
     "data": {
      "text/plain": [
       "'s*t*m*'"
      ]
     },
     "execution_count": 22,
     "metadata": {},
     "output_type": "execute_result"
    }
   ],
   "source": [
    "anti_vowel()"
   ]
  },
  {
   "cell_type": "code",
   "execution_count": 23,
   "id": "e07b9333",
   "metadata": {},
   "outputs": [],
   "source": [
    "def anti_vowel():\n",
    "    s=str(input('Enter str for anti vowel- '))\n",
    "    a=0\n",
    "    v='aeiou'\n",
    "    while a < len(s):\n",
    "        if s[a] in v:\n",
    "            s=s.replace(s[a],\"*\")\n",
    "        a+=1\n",
    "    return s"
   ]
  },
  {
   "cell_type": "code",
   "execution_count": 24,
   "id": "4b90ff39",
   "metadata": {},
   "outputs": [
    {
     "name": "stdout",
     "output_type": "stream",
     "text": [
      "Enter str for anti vowel- tunarego\n"
     ]
    },
    {
     "data": {
      "text/plain": [
       "'t*n*r*g*'"
      ]
     },
     "execution_count": 24,
     "metadata": {},
     "output_type": "execute_result"
    }
   ],
   "source": [
    "anti_vowel()"
   ]
  },
  {
   "cell_type": "code",
   "execution_count": 26,
   "id": "3a2518ea",
   "metadata": {},
   "outputs": [
    {
     "data": {
      "text/plain": [
       "[[0, 2], [0, 6], [0, 4], [0, 5], [0, 0]]"
      ]
     },
     "execution_count": 26,
     "metadata": {},
     "output_type": "execute_result"
    }
   ],
   "source": [
    "x=[2,6,4,5,0]\n",
    "y=[0]\n",
    "f= lambda x,y : [y + [i] for i in x]\n",
    "f(x,y)"
   ]
  },
  {
   "cell_type": "code",
   "execution_count": 28,
   "id": "160e412a",
   "metadata": {},
   "outputs": [
    {
     "data": {
      "text/plain": [
       "[0, 2, 6, 4, 5, 0]"
      ]
     },
     "execution_count": 28,
     "metadata": {},
     "output_type": "execute_result"
    }
   ],
   "source": [
    "x=[2,6,4,5,0]\n",
    "y=[0]\n",
    "f= lambda x,y : y + [i for i in x]\n",
    "f(x,y)"
   ]
  },
  {
   "cell_type": "code",
   "execution_count": 41,
   "id": "7a830016",
   "metadata": {},
   "outputs": [],
   "source": [
    "def anti_vowel_low(c):\n",
    "    newstr = c\n",
    "    vowels = ('a', 'e', 'i', 'o', 'u')\n",
    "    for x in c.lower():\n",
    "        if x in vowels:\n",
    "            newstr = newstr.replace(x,\"&\")\n",
    "    return newstr"
   ]
  },
  {
   "cell_type": "code",
   "execution_count": 37,
   "id": "c44e8984",
   "metadata": {},
   "outputs": [
    {
     "data": {
      "text/plain": [
       "'dOg&'"
      ]
     },
     "execution_count": 37,
     "metadata": {},
     "output_type": "execute_result"
    }
   ],
   "source": [
    "anti_vowels('dOgi')"
   ]
  },
  {
   "cell_type": "code",
   "execution_count": 50,
   "id": "0ba38dab",
   "metadata": {},
   "outputs": [],
   "source": [
    "def anti_vowel_all(c):\n",
    "    newstr = c\n",
    "    vowels = ('a', 'e', 'i', 'o', 'u','O')\n",
    "    for x in c:\n",
    "        if x in vowels:\n",
    "            newstr = newstr.replace(x,\"&\")\n",
    "    return newstr"
   ]
  },
  {
   "cell_type": "code",
   "execution_count": 51,
   "id": "4efb7660",
   "metadata": {},
   "outputs": [
    {
     "data": {
      "text/plain": [
       "'d&g&'"
      ]
     },
     "execution_count": 51,
     "metadata": {},
     "output_type": "execute_result"
    }
   ],
   "source": [
    "anti_vowel_all('dOgi')"
   ]
  },
  {
   "cell_type": "code",
   "execution_count": 53,
   "id": "ca91b5dc",
   "metadata": {},
   "outputs": [
    {
     "ename": "AttributeError",
     "evalue": "'tuple' object has no attribute 'upper'",
     "output_type": "error",
     "traceback": [
      "\u001b[1;31m---------------------------------------------------------------------------\u001b[0m",
      "\u001b[1;31mAttributeError\u001b[0m                            Traceback (most recent call last)",
      "\u001b[1;32m~\\AppData\\Local\\Temp/ipykernel_2172/430459219.py\u001b[0m in \u001b[0;36m<module>\u001b[1;34m\u001b[0m\n\u001b[0;32m      1\u001b[0m \u001b[0mvowels\u001b[0m \u001b[1;33m=\u001b[0m \u001b[1;33m(\u001b[0m\u001b[1;34m'a'\u001b[0m\u001b[1;33m,\u001b[0m \u001b[1;34m'e'\u001b[0m\u001b[1;33m,\u001b[0m \u001b[1;34m'i'\u001b[0m\u001b[1;33m,\u001b[0m \u001b[1;34m'o'\u001b[0m\u001b[1;33m,\u001b[0m \u001b[1;34m'u'\u001b[0m\u001b[1;33m,\u001b[0m\u001b[1;34m'O'\u001b[0m\u001b[1;33m)\u001b[0m\u001b[1;33m\u001b[0m\u001b[1;33m\u001b[0m\u001b[0m\n\u001b[1;32m----> 2\u001b[1;33m \u001b[0mvowels\u001b[0m\u001b[1;33m.\u001b[0m\u001b[0mupper\u001b[0m\u001b[1;33m(\u001b[0m\u001b[1;33m)\u001b[0m\u001b[1;33m\u001b[0m\u001b[1;33m\u001b[0m\u001b[0m\n\u001b[0m",
      "\u001b[1;31mAttributeError\u001b[0m: 'tuple' object has no attribute 'upper'"
     ]
    }
   ],
   "source": [
    "vowels = ('a', 'e', 'i', 'o', 'u','O')\n",
    "vowels.upper()"
   ]
  },
  {
   "cell_type": "code",
   "execution_count": null,
   "id": "ab7a7618",
   "metadata": {},
   "outputs": [],
   "source": []
  }
 ],
 "metadata": {
  "kernelspec": {
   "display_name": "Python 3 (ipykernel)",
   "language": "python",
   "name": "python3"
  },
  "language_info": {
   "codemirror_mode": {
    "name": "ipython",
    "version": 3
   },
   "file_extension": ".py",
   "mimetype": "text/x-python",
   "name": "python",
   "nbconvert_exporter": "python",
   "pygments_lexer": "ipython3",
   "version": "3.9.7"
  }
 },
 "nbformat": 4,
 "nbformat_minor": 5
}
