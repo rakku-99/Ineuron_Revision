{
 "cells": [
  {
   "cell_type": "code",
   "execution_count": 1,
   "id": "bcac9a26",
   "metadata": {
    "scrolled": true
   },
   "outputs": [
    {
     "name": "stdout",
     "output_type": "stream",
     "text": [
      "s\n",
      "u\n",
      "d\n",
      "h\n"
     ]
    }
   ],
   "source": [
    "s=\"sudh\"\n",
    "for i in s:\n",
    "    print(i)"
   ]
  },
  {
   "cell_type": "code",
   "execution_count": 3,
   "id": "7c7a19e6",
   "metadata": {
    "scrolled": true
   },
   "outputs": [
    {
     "name": "stdout",
     "output_type": "stream",
     "text": [
      "1\n",
      "2\n",
      "3\n"
     ]
    }
   ],
   "source": [
    "l = [1,2,3,4,\"sudh\" ,\"kumar\" , 45.56]\n",
    "for i in l:\n",
    "    if i==4:\n",
    "        break\n",
    "    print(i)\n",
    "else:\n",
    "    print(\"this will execute only if for loop is going to complete itself\")"
   ]
  },
  {
   "cell_type": "code",
   "execution_count": 4,
   "id": "b30dfe7c",
   "metadata": {},
   "outputs": [
    {
     "name": "stdout",
     "output_type": "stream",
     "text": [
      "s\n",
      "u\n",
      "d\n",
      "h\n",
      "a\n",
      "n\n",
      "s\n",
      "h\n",
      "u\n",
      "print string sudhanshu\n"
     ]
    }
   ],
   "source": [
    "s= \"sudhanshu\"\n",
    "for i in s:\n",
    "    if i==\"z\":\n",
    "        break\n",
    "    print(i)\n",
    "else:\n",
    "    print(\"print string\", s)"
   ]
  },
  {
   "cell_type": "code",
   "execution_count": 8,
   "id": "576b2ccc",
   "metadata": {},
   "outputs": [
    {
     "name": "stdout",
     "output_type": "stream",
     "text": [
      "4\n",
      "5\n",
      "6\n",
      "7\n",
      "8\n",
      "6\n",
      "sudh\n"
     ]
    }
   ],
   "source": [
    "t=(4,5,6,7,8,6,\"sudh\")\n",
    "for i in t:\n",
    "    print(i)"
   ]
  },
  {
   "cell_type": "code",
   "execution_count": null,
   "id": "6ba3239e",
   "metadata": {},
   "outputs": [],
   "source": [
    "b={4,5,6,5,6,7,7,77,7,7,8,\"sudh\"}\n",
    "for i in b:\n",
    "    print(i)"
   ]
  },
  {
   "cell_type": "code",
   "execution_count": 7,
   "id": "74e432c6",
   "metadata": {},
   "outputs": [
    {
     "name": "stdout",
     "output_type": "stream",
     "text": [
      "key1 : sudh\n",
      "contact : sudhanshu@ineuron.ai\n",
      "position : xyz\n"
     ]
    }
   ],
   "source": [
    "d={'key1':\"sudh\",'contact':\"sudhanshu@ineuron.ai\",'position':\"xyz\"}\n",
    "for i in d:\n",
    "    print(i,\":\",d[i])"
   ]
  },
  {
   "cell_type": "code",
   "execution_count": 9,
   "id": "e9091464",
   "metadata": {},
   "outputs": [
    {
     "data": {
      "text/plain": [
       "range(0, 9)"
      ]
     },
     "execution_count": 9,
     "metadata": {},
     "output_type": "execute_result"
    }
   ],
   "source": [
    "range(9)"
   ]
  },
  {
   "cell_type": "code",
   "execution_count": 10,
   "id": "d8381530",
   "metadata": {},
   "outputs": [
    {
     "data": {
      "text/plain": [
       "[0, 1, 2, 3, 4, 5, 6, 7, 8]"
      ]
     },
     "execution_count": 10,
     "metadata": {},
     "output_type": "execute_result"
    }
   ],
   "source": [
    "list(range(9))"
   ]
  },
  {
   "cell_type": "code",
   "execution_count": 12,
   "id": "c9ef17fb",
   "metadata": {},
   "outputs": [
    {
     "data": {
      "text/plain": [
       "[0, 1, 2, 3, 4, 5, 6, 7]"
      ]
     },
     "execution_count": 12,
     "metadata": {},
     "output_type": "execute_result"
    }
   ],
   "source": [
    "list(range(0,8))"
   ]
  },
  {
   "cell_type": "code",
   "execution_count": 13,
   "id": "e8635cda",
   "metadata": {},
   "outputs": [
    {
     "data": {
      "text/plain": [
       "[0, 2, 4, 6, 8]"
      ]
     },
     "execution_count": 13,
     "metadata": {},
     "output_type": "execute_result"
    }
   ],
   "source": [
    "list(range(0,9 , 2))"
   ]
  },
  {
   "cell_type": "code",
   "execution_count": 14,
   "id": "682f5db3",
   "metadata": {},
   "outputs": [
    {
     "name": "stdout",
     "output_type": "stream",
     "text": [
      "0 3\n",
      "1 23\n",
      "2 45\n",
      "3 67\n",
      "4 2\n",
      "5 4\n",
      "6 5\n",
      "7 6\n"
     ]
    }
   ],
   "source": [
    "t = (3,23,45,67,2,4,5,6)\n",
    "\n",
    "for i in range(len(t)):\n",
    "    print(i,t[i])\n"
   ]
  },
  {
   "cell_type": "code",
   "execution_count": 15,
   "id": "509c6a6d",
   "metadata": {},
   "outputs": [
    {
     "name": "stdout",
     "output_type": "stream",
     "text": [
      "0 i\n",
      "1 n\n",
      "2 e\n",
      "3 u\n",
      "4 r\n",
      "5 o\n",
      "6 n\n"
     ]
    }
   ],
   "source": [
    "s = \"ineuron\"\n",
    "for i in range(len(s)) : \n",
    "    print(i , s[i])"
   ]
  },
  {
   "cell_type": "code",
   "execution_count": 20,
   "id": "e28c6614",
   "metadata": {},
   "outputs": [
    {
     "name": "stdout",
     "output_type": "stream",
     "text": [
      "Rakesh\n",
      "Rakesh\n",
      "Rakesh\n",
      "Rakesh\n",
      "Rakesh\n",
      "Rakesh\n"
     ]
    }
   ],
   "source": [
    "r='Rakesh'\n",
    "for i in range(len(r)):\n",
    "    print(r)"
   ]
  },
  {
   "cell_type": "code",
   "execution_count": 21,
   "id": "696f85b9",
   "metadata": {},
   "outputs": [
    {
     "name": "stdout",
     "output_type": "stream",
     "text": [
      "Rakesh\n",
      "0\n",
      "Rakesh\n",
      "1\n",
      "Rakesh\n",
      "2\n",
      "Rakesh\n",
      "3\n",
      "Rakesh\n",
      "4\n",
      "Rakesh\n",
      "5\n"
     ]
    }
   ],
   "source": [
    "r='Rakesh'\n",
    "n=3\n",
    "for i in range(len(r)):\n",
    "    print(r)\n",
    "    \n",
    "    if n<= len(r):\n",
    "        print(i)"
   ]
  },
  {
   "cell_type": "code",
   "execution_count": 22,
   "id": "750a8c77",
   "metadata": {},
   "outputs": [
    {
     "name": "stdout",
     "output_type": "stream",
     "text": [
      "Rakesh\n"
     ]
    }
   ],
   "source": [
    "r='Rakesh'\n",
    "n=3\n",
    "for i in range(len(r)):\n",
    "    print(r)\n",
    "    break\n",
    "    if n<= len(r):\n",
    "        print(i)"
   ]
  },
  {
   "cell_type": "code",
   "execution_count": 28,
   "id": "87e6c25f",
   "metadata": {},
   "outputs": [
    {
     "name": "stdout",
     "output_type": "stream",
     "text": [
      "\n",
      "Rakesh\n",
      "RakeshRakesh\n",
      "RakeshRakeshRakesh\n",
      "RakeshRakeshRakeshRakesh\n",
      "RakeshRakeshRakeshRakeshRakesh\n"
     ]
    }
   ],
   "source": [
    "r='Rakesh'\n",
    "for i in range(len(r)):\n",
    "    print(r*i)"
   ]
  },
  {
   "cell_type": "code",
   "execution_count": 29,
   "id": "9b703e45",
   "metadata": {},
   "outputs": [
    {
     "name": "stdout",
     "output_type": "stream",
     "text": [
      "\n",
      "Rakesh \n",
      "Rakesh Rakesh \n",
      "Rakesh Rakesh Rakesh \n",
      "Rakesh Rakesh Rakesh Rakesh \n",
      "Rakesh Rakesh Rakesh Rakesh Rakesh \n",
      "Rakesh Rakesh Rakesh Rakesh Rakesh Rakesh \n"
     ]
    }
   ],
   "source": [
    "r='Rakesh '\n",
    "for i in range(len(r)):\n",
    "    print(r*i)"
   ]
  },
  {
   "cell_type": "code",
   "execution_count": 30,
   "id": "b6f04b74",
   "metadata": {},
   "outputs": [
    {
     "name": "stdout",
     "output_type": "stream",
     "text": [
      "\n",
      "Rakesh \n",
      "Rakesh Rakesh \n",
      "Rakesh Rakesh Rakesh \n",
      "Rakesh Rakesh Rakesh Rakesh \n",
      "Rakesh Rakesh Rakesh Rakesh Rakesh \n"
     ]
    }
   ],
   "source": [
    "r='Rakesh '\n",
    "for i in range(len(r)-1):\n",
    "    print(r*i)"
   ]
  },
  {
   "cell_type": "code",
   "execution_count": 31,
   "id": "daca6828",
   "metadata": {},
   "outputs": [
    {
     "name": "stdout",
     "output_type": "stream",
     "text": [
      " Rakesh  Rakesh Rakesh  Rakesh Rakesh Rakesh  Rakesh Rakesh Rakesh Rakesh  Rakesh Rakesh Rakesh Rakesh Rakesh  "
     ]
    }
   ],
   "source": [
    "r='Rakesh '\n",
    "for i in range(len(r)-1):\n",
    "    print(r*i, end=\" \")"
   ]
  },
  {
   "cell_type": "code",
   "execution_count": 56,
   "id": "25262977",
   "metadata": {},
   "outputs": [
    {
     "name": "stdout",
     "output_type": "stream",
     "text": [
      "        \n",
      "         Rakesh   \n",
      "         Rakesh    Rakesh   \n",
      "         Rakesh    Rakesh    Rakesh   \n",
      "         Rakesh    Rakesh    Rakesh    Rakesh   \n",
      "         Rakesh    Rakesh    Rakesh    Rakesh    Rakesh   \n"
     ]
    }
   ],
   "source": [
    "r='Rakesh '\n",
    "for i in range(len(r)-1):\n",
    "    print(len(r)*\" \",(i*r.center(10)))"
   ]
  },
  {
   "cell_type": "code",
   "execution_count": 51,
   "id": "33faca16",
   "metadata": {},
   "outputs": [
    {
     "ename": "NameError",
     "evalue": "name 'center' is not defined",
     "output_type": "error",
     "traceback": [
      "\u001b[1;31m---------------------------------------------------------------------------\u001b[0m",
      "\u001b[1;31mNameError\u001b[0m                                 Traceback (most recent call last)",
      "\u001b[1;32m~\\AppData\\Local\\Temp/ipykernel_16896/813128959.py\u001b[0m in \u001b[0;36m<module>\u001b[1;34m\u001b[0m\n\u001b[1;32m----> 1\u001b[1;33m \u001b[0mcenter\u001b[0m\u001b[1;33m(\u001b[0m\u001b[1;33m(\u001b[0m\u001b[0mr\u001b[0m\u001b[1;33m*\u001b[0m\u001b[0mi\u001b[0m\u001b[1;33m)\u001b[0m\u001b[1;33m,\u001b[0m\u001b[1;36m100\u001b[0m\u001b[1;33m)\u001b[0m\u001b[1;33m\u001b[0m\u001b[1;33m\u001b[0m\u001b[0m\n\u001b[0m",
      "\u001b[1;31mNameError\u001b[0m: name 'center' is not defined"
     ]
    }
   ],
   "source": [
    "center((r*i),100)"
   ]
  },
  {
   "cell_type": "code",
   "execution_count": 42,
   "id": "7e7facac",
   "metadata": {},
   "outputs": [
    {
     "data": {
      "text/plain": [
       "' Rakesh   '"
      ]
     },
     "execution_count": 42,
     "metadata": {},
     "output_type": "execute_result"
    }
   ],
   "source": [
    "r.center(10)"
   ]
  },
  {
   "cell_type": "code",
   "execution_count": 52,
   "id": "986de2f0",
   "metadata": {},
   "outputs": [
    {
     "name": "stdout",
     "output_type": "stream",
     "text": [
      " Rakesh   \n"
     ]
    }
   ],
   "source": [
    "print(r.center(10))"
   ]
  },
  {
   "cell_type": "code",
   "execution_count": 58,
   "id": "b43e8f6c",
   "metadata": {
    "scrolled": true
   },
   "outputs": [
    {
     "name": "stdout",
     "output_type": "stream",
     "text": [
      "\n",
      " Rakesh   \n",
      " Rakesh    Rakesh   \n",
      " Rakesh    Rakesh    Rakesh   \n",
      " Rakesh    Rakesh    Rakesh    Rakesh   \n",
      " Rakesh    Rakesh    Rakesh    Rakesh    Rakesh   \n"
     ]
    }
   ],
   "source": [
    "r='Rakesh '\n",
    "for i in range(len(r)-1):\n",
    "    print(i*r.center(10))"
   ]
  },
  {
   "cell_type": "code",
   "execution_count": 63,
   "id": "cece7b7d",
   "metadata": {},
   "outputs": [
    {
     "name": "stdout",
     "output_type": "stream",
     "text": [
      " \n",
      "  Rakesh \n",
      "   Rakesh Rakesh \n",
      "    Rakesh Rakesh Rakesh \n",
      "     Rakesh Rakesh Rakesh Rakesh \n",
      "      Rakesh Rakesh Rakesh Rakesh Rakesh \n"
     ]
    }
   ],
   "source": [
    "r='Rakesh '\n",
    "for i in range(len(r)-1):\n",
    "    print(i*\" \",(i*r))"
   ]
  },
  {
   "cell_type": "code",
   "execution_count": 62,
   "id": "1738cfe4",
   "metadata": {},
   "outputs": [
    {
     "name": "stdout",
     "output_type": "stream",
     "text": [
      " \n",
      "   Rakesh   \n",
      "    Rakesh    Rakesh   \n",
      "     Rakesh    Rakesh    Rakesh   \n",
      "      Rakesh    Rakesh    Rakesh    Rakesh   \n",
      "       Rakesh    Rakesh    Rakesh    Rakesh    Rakesh   \n"
     ]
    }
   ],
   "source": [
    "r='Rakesh '\n",
    "for i in range(len(r)-1):\n",
    "    print(i*\" \",(i*r.center(10)))"
   ]
  },
  {
   "cell_type": "code",
   "execution_count": 67,
   "id": "a1710d53",
   "metadata": {},
   "outputs": [
    {
     "name": "stdout",
     "output_type": "stream",
     "text": [
      "  \n",
      " Rakesh       Rakesh   \n",
      " Rakesh    Rakesh        Rakesh    Rakesh   \n",
      " Rakesh    Rakesh    Rakesh         Rakesh    Rakesh    Rakesh   \n",
      " Rakesh    Rakesh    Rakesh    Rakesh          Rakesh    Rakesh    Rakesh    Rakesh   \n",
      " Rakesh    Rakesh    Rakesh    Rakesh    Rakesh           Rakesh    Rakesh    Rakesh    Rakesh    Rakesh   \n"
     ]
    }
   ],
   "source": [
    "r='Rakesh '\n",
    "for i in range(len(r)-1):\n",
    "    print(i*r.center(10),i*\" \",i*r.center(10))"
   ]
  },
  {
   "cell_type": "code",
   "execution_count": 71,
   "id": "78f814cd",
   "metadata": {},
   "outputs": [
    {
     "name": "stdout",
     "output_type": "stream",
     "text": [
      "     Rakesh   \n",
      "     Rakesh   \n",
      "     Rakesh   \n"
     ]
    }
   ],
   "source": [
    "r='Rakesh '\n",
    "n=3\n",
    "k=4\n",
    "for i in range(n):\n",
    "    print(n\" \",(r.center(10)))"
   ]
  },
  {
   "cell_type": "code",
   "execution_count": 73,
   "id": "3b1c7532",
   "metadata": {},
   "outputs": [
    {
     "name": "stdout",
     "output_type": "stream",
     "text": [
      "  Rakesh   \n",
      "   Rakesh   \n",
      "    Rakesh   \n"
     ]
    }
   ],
   "source": [
    "r='Rakesh '\n",
    "n=3\n",
    "k=4\n",
    "for i in range(n):\n",
    "    print(i*\" \",(r.center(10)))"
   ]
  },
  {
   "cell_type": "code",
   "execution_count": 78,
   "id": "1d12a2e4",
   "metadata": {},
   "outputs": [
    {
     "name": "stdout",
     "output_type": "stream",
     "text": [
      " \n",
      "  Rakesh \n",
      "   Rakesh Rakesh \n",
      "    Rakesh Rakesh Rakesh \n",
      "     Rakesh Rakesh Rakesh Rakesh \n"
     ]
    }
   ],
   "source": [
    "r='Rakesh '\n",
    "n=5\n",
    "k=4\n",
    "for i in range(n):\n",
    "    print(i*\" \",(i*r))"
   ]
  },
  {
   "cell_type": "code",
   "execution_count": 80,
   "id": "972167da",
   "metadata": {},
   "outputs": [
    {
     "name": "stdout",
     "output_type": "stream",
     "text": [
      "Rakesh \n",
      "  Rakesh \n",
      "Rakesh Rakesh \n",
      "   Rakesh Rakesh \n",
      "Rakesh Rakesh Rakesh \n",
      "    Rakesh Rakesh Rakesh \n",
      "     Rakesh Rakesh Rakesh Rakesh \n"
     ]
    }
   ],
   "source": [
    "r='Rakesh '\n",
    "n=5\n",
    "k=4\n",
    "for i in range(1,n):\n",
    "    if i in range(1,n-1):\n",
    "        print(i*r)\n",
    "    print(i*\" \",(i*r))"
   ]
  },
  {
   "cell_type": "code",
   "execution_count": 92,
   "id": "34512dee",
   "metadata": {},
   "outputs": [
    {
     "name": "stdout",
     "output_type": "stream",
     "text": [
      "        Rakesh        Rakesh  Rakesh      Rakesh  Rakesh  Rakesh    Rakesh  Rakesh  Rakesh  Rakesh  Rakesh  Rakesh  Rakesh  Rakesh  Rakesh  "
     ]
    }
   ],
   "source": [
    "r='Rakesh '\n",
    "n=5\n",
    "for i in range(n):\n",
    "    for j in range(i, n-1):\n",
    "        print(\" \", end=\" \")\n",
    "    for j in range(i+1):\n",
    "        print(r, end= \" \")"
   ]
  },
  {
   "cell_type": "code",
   "execution_count": 90,
   "id": "7657954a",
   "metadata": {},
   "outputs": [
    {
     "name": "stdout",
     "output_type": "stream",
     "text": [
      "        Rakesh  \n",
      "      Rakesh  Rakesh  \n",
      "    Rakesh  Rakesh  Rakesh  \n",
      "  Rakesh  Rakesh  Rakesh  Rakesh  \n",
      "Rakesh  Rakesh  Rakesh  Rakesh  Rakesh  \n"
     ]
    }
   ],
   "source": [
    "r='Rakesh '\n",
    "n=5\n",
    "for i in range(n):\n",
    "    for j in range(i, n-1):\n",
    "        print(\" \", end=\" \")\n",
    "    for j in range(i+1):\n",
    "        print(r, end= \" \")\n",
    "    print()"
   ]
  },
  {
   "cell_type": "code",
   "execution_count": 95,
   "id": "f6bc1da4",
   "metadata": {},
   "outputs": [
    {
     "name": "stdout",
     "output_type": "stream",
     "text": [
      "                                Rakesh  \n",
      "                        Rakesh  Rakesh  \n",
      "                Rakesh  Rakesh  Rakesh  \n",
      "        Rakesh  Rakesh  Rakesh  Rakesh  \n",
      "Rakesh  Rakesh  Rakesh  Rakesh  Rakesh  \n"
     ]
    }
   ],
   "source": [
    "r='Rakesh '\n",
    "n=5\n",
    "for i in range(n):\n",
    "    for j in range(i, n-1):\n",
    "        print(len(r)*\" \", end=\" \")\n",
    "    for j in range(i+1):\n",
    "        print(r, end=\" \")\n",
    "    print()"
   ]
  },
  {
   "cell_type": "code",
   "execution_count": 97,
   "id": "5685b4eb",
   "metadata": {},
   "outputs": [
    {
     "name": "stdout",
     "output_type": "stream",
     "text": [
      "        0\n",
      "        0\n",
      "        0\n",
      "        0\n",
      "Rakesh  0\n",
      "\n",
      "        1\n",
      "        1\n",
      "        1\n",
      "Rakesh  1\n",
      "Rakesh  1\n",
      "\n",
      "        2\n",
      "        2\n",
      "Rakesh  2\n",
      "Rakesh  2\n",
      "Rakesh  2\n",
      "\n",
      "        3\n",
      "Rakesh  3\n",
      "Rakesh  3\n",
      "Rakesh  3\n",
      "Rakesh  3\n",
      "\n",
      "Rakesh  4\n",
      "Rakesh  4\n",
      "Rakesh  4\n",
      "Rakesh  4\n",
      "Rakesh  4\n",
      "\n"
     ]
    }
   ],
   "source": [
    "r='Rakesh '\n",
    "n=5\n",
    "for i in range(n):\n",
    "    for j in range(i, n-1):\n",
    "        print(len(r)*\" \", end=\" \")\n",
    "        print(i)\n",
    "    for j in range(i+1):\n",
    "        print(r, end=\" \")\n",
    "        print(i)\n",
    "    print()"
   ]
  },
  {
   "cell_type": "code",
   "execution_count": 98,
   "id": "4834c7ca",
   "metadata": {},
   "outputs": [
    {
     "name": "stdout",
     "output_type": "stream",
     "text": [
      "        0\n",
      "        0\n",
      "        0\n",
      "        0\n",
      "Rakesh  0\n",
      "        0\n",
      "        0\n",
      "        0\n",
      "        0\n",
      "        0\n",
      "        0\n",
      "\n",
      "        1\n",
      "        1\n",
      "        1\n",
      "Rakesh  1\n",
      "Rakesh  1\n",
      "        1\n",
      "        1\n",
      "        1\n",
      "        1\n",
      "        1\n",
      "\n",
      "        2\n",
      "        2\n",
      "Rakesh  2\n",
      "Rakesh  2\n",
      "Rakesh  2\n",
      "        2\n",
      "        2\n",
      "        2\n",
      "        2\n",
      "\n",
      "        3\n",
      "Rakesh  3\n",
      "Rakesh  3\n",
      "Rakesh  3\n",
      "Rakesh  3\n",
      "        3\n",
      "        3\n",
      "        3\n",
      "\n",
      "Rakesh  4\n",
      "Rakesh  4\n",
      "Rakesh  4\n",
      "Rakesh  4\n",
      "Rakesh  4\n",
      "        4\n",
      "        4\n",
      "\n"
     ]
    }
   ],
   "source": [
    "r='Rakesh '\n",
    "n=5\n",
    "for i in range(n):\n",
    "    for j in range(i, n-1):\n",
    "        print(len(r)*\" \", end=\" \")\n",
    "        print(i)\n",
    "    for j in range(i+1):\n",
    "        print(r, end=\" \")\n",
    "        print(i)\n",
    "    for j in range(i, n+1):\n",
    "        print(len(r)*\" \", end=\" \")\n",
    "        print(i)\n",
    "    print()"
   ]
  },
  {
   "cell_type": "code",
   "execution_count": 103,
   "id": "6db299ad",
   "metadata": {},
   "outputs": [
    {
     "name": "stdout",
     "output_type": "stream",
     "text": [
      "                                Rakesh                                                  \n",
      "                        Rakesh  Rakesh                                          \n",
      "                Rakesh  Rakesh  Rakesh                                  \n",
      "        Rakesh  Rakesh  Rakesh  Rakesh                          \n",
      "Rakesh  Rakesh  Rakesh  Rakesh  Rakesh                  \n"
     ]
    }
   ],
   "source": [
    "r='Rakesh '\n",
    "n=5\n",
    "for i in range(n):\n",
    "    for j in range(i, n-1):\n",
    "        print(len(r)*\" \", end=\" \")\n",
    "    for j in range(i+1):\n",
    "        print(r, end=\" \")\n",
    "    for j in range(n+1,i,-1):\n",
    "        print(len(r)*\" \", end=\" \")\n",
    "    print()"
   ]
  },
  {
   "cell_type": "code",
   "execution_count": 104,
   "id": "3d359240",
   "metadata": {},
   "outputs": [
    {
     "name": "stdout",
     "output_type": "stream",
     "text": [
      "                                Rakesh         \n",
      "       \n",
      "       \n",
      "       \n",
      "       \n",
      "       \n",
      "                        Rakesh  Rakesh         \n",
      "       \n",
      "       \n",
      "       \n",
      "       \n",
      "                Rakesh  Rakesh  Rakesh         \n",
      "       \n",
      "       \n",
      "       \n",
      "        Rakesh  Rakesh  Rakesh  Rakesh         \n",
      "       \n",
      "       \n",
      "Rakesh  Rakesh  Rakesh  Rakesh  Rakesh         \n",
      "       \n"
     ]
    }
   ],
   "source": [
    "r='Rakesh '\n",
    "n=5\n",
    "for i in range(n):\n",
    "    for j in range(i, n-1):\n",
    "        print(len(r)*\" \", end=\" \")\n",
    "    for j in range(i+1):\n",
    "        print(r, end=\" \")\n",
    "    for j in range(n+1,i,-1):\n",
    "        print(len(r)*\" \", end=\"\\n\")"
   ]
  },
  {
   "cell_type": "code",
   "execution_count": 115,
   "id": "dfe14f82",
   "metadata": {},
   "outputs": [
    {
     "ename": "SyntaxError",
     "evalue": "positional argument follows keyword argument (Temp/ipykernel_16896/3577117352.py, line 5)",
     "output_type": "error",
     "traceback": [
      "\u001b[1;36m  File \u001b[1;32m\"C:\\Users\\rakes\\AppData\\Local\\Temp/ipykernel_16896/3577117352.py\"\u001b[1;36m, line \u001b[1;32m5\u001b[0m\n\u001b[1;33m    print(end=\" \",len(r)*\" \")\u001b[0m\n\u001b[1;37m                            ^\u001b[0m\n\u001b[1;31mSyntaxError\u001b[0m\u001b[1;31m:\u001b[0m positional argument follows keyword argument\n"
     ]
    }
   ],
   "source": [
    "r='Rakesh '\n",
    "n=5\n",
    "for i in range(n):\n",
    "    for j in range(i, n-1):\n",
    "        print(end=\" \",len(r)*\" \")\n",
    "    for j in range(i+1):\n",
    "        print(r, end=\" \")\n",
    "    print()"
   ]
  },
  {
   "cell_type": "code",
   "execution_count": 125,
   "id": "4249604a",
   "metadata": {},
   "outputs": [
    {
     "name": "stdout",
     "output_type": "stream",
     "text": [
      "        \n",
      "       Rakesh \n",
      "      Rakesh Rakesh \n",
      "     Rakesh Rakesh Rakesh \n",
      "    Rakesh Rakesh Rakesh Rakesh \n",
      "   Rakesh Rakesh Rakesh Rakesh Rakesh \n",
      "  Rakesh Rakesh Rakesh Rakesh Rakesh Rakesh \n"
     ]
    }
   ],
   "source": [
    "r='Rakesh '\n",
    "n=5\n",
    "for i in range(len(r)):\n",
    "    print((len(r)-i)*\" \", r*i)"
   ]
  },
  {
   "cell_type": "code",
   "execution_count": 135,
   "id": "43a2fc1a",
   "metadata": {},
   "outputs": [
    {
     "name": "stdout",
     "output_type": "stream",
     "text": [
      "          Rakesh \n",
      "       Rakesh    Rakesh Rakesh \n",
      "      Rakesh Rakesh     Rakesh Rakesh Rakesh \n",
      "     Rakesh Rakesh Rakesh      Rakesh Rakesh Rakesh Rakesh \n",
      "    Rakesh Rakesh Rakesh Rakesh       Rakesh Rakesh Rakesh Rakesh Rakesh \n",
      "   Rakesh Rakesh Rakesh Rakesh Rakesh        Rakesh Rakesh Rakesh Rakesh Rakesh Rakesh \n",
      "  Rakesh Rakesh Rakesh Rakesh Rakesh Rakesh         Rakesh Rakesh Rakesh Rakesh Rakesh Rakesh Rakesh \n"
     ]
    }
   ],
   "source": [
    "r='Rakesh '\n",
    "n=5\n",
    "for i in range(len(r)):\n",
    "    print((len(r)-i)*\" \", r*i,(i)*\" \", r*(i+1))"
   ]
  },
  {
   "cell_type": "code",
   "execution_count": 136,
   "id": "181e955a",
   "metadata": {},
   "outputs": [
    {
     "name": "stdout",
     "output_type": "stream",
     "text": [
      "                                Rakesh  \n",
      "                        Rakesh  Rakesh  \n",
      "                Rakesh  Rakesh  Rakesh  \n",
      "        Rakesh  Rakesh  Rakesh  Rakesh  \n",
      "Rakesh  Rakesh  Rakesh  Rakesh  Rakesh  \n"
     ]
    }
   ],
   "source": [
    "r='Rakesh '\n",
    "n=5\n",
    "for i in range(n):\n",
    "    for j in range(i, n-1):\n",
    "        print(len(r)*\" \", end=\" \")\n",
    "    for j in range(i+1):\n",
    "        print(r, end=\" \")\n",
    "    print()"
   ]
  },
  {
   "cell_type": "code",
   "execution_count": 1,
   "id": "8f4bc422",
   "metadata": {},
   "outputs": [
    {
     "name": "stdout",
     "output_type": "stream",
     "text": [
      "                                                        "
     ]
    }
   ],
   "source": [
    "r='Rakesh '\n",
    "n=5\n",
    "for i in range(len(r)):\n",
    "    print(len(r)*\" \", end=\" \")\n",
    "        print(r, end=\" \")"
   ]
  },
  {
   "cell_type": "code",
   "execution_count": 2,
   "id": "5010a814",
   "metadata": {},
   "outputs": [
    {
     "name": "stdout",
     "output_type": "stream",
     "text": [
      "\n",
      " Rakesh   \n",
      " Rakesh    Rakesh   \n",
      " Rakesh    Rakesh    Rakesh   \n",
      " Rakesh    Rakesh    Rakesh    Rakesh   \n",
      " Rakesh    Rakesh    Rakesh    Rakesh    Rakesh   \n"
     ]
    }
   ],
   "source": [
    "r='Rakesh '\n",
    "for i in range(len(r)-1):\n",
    "    print(i*r.center(10))"
   ]
  },
  {
   "cell_type": "code",
   "execution_count": 8,
   "id": "eede9222",
   "metadata": {},
   "outputs": [
    {
     "name": "stdout",
     "output_type": "stream",
     "text": [
      "        \n",
      "Rakesh         \n",
      "Rakesh Rakesh         \n",
      "Rakesh Rakesh Rakesh         \n",
      "Rakesh Rakesh Rakesh Rakesh         \n",
      "Rakesh Rakesh Rakesh Rakesh Rakesh         \n"
     ]
    }
   ],
   "source": [
    "r='Rakesh '\n",
    "n=5\n",
    "for i in range(len(r)-1):\n",
    "    print(i*r, len(r)*\" \", end=\"\\n\")"
   ]
  },
  {
   "cell_type": "code",
   "execution_count": null,
   "id": "ba03b5cd",
   "metadata": {},
   "outputs": [],
   "source": [
    "r='Rakesh '\n",
    "n=5\n",
    "for i in range(len(r)):\n",
    "    print((len(r)-i)*\" \", r*i,(i)*\" \", r*(i+1))"
   ]
  }
 ],
 "metadata": {
  "kernelspec": {
   "display_name": "Python 3 (ipykernel)",
   "language": "python",
   "name": "python3"
  },
  "language_info": {
   "codemirror_mode": {
    "name": "ipython",
    "version": 3
   },
   "file_extension": ".py",
   "mimetype": "text/x-python",
   "name": "python",
   "nbconvert_exporter": "python",
   "pygments_lexer": "ipython3",
   "version": "3.9.7"
  }
 },
 "nbformat": 4,
 "nbformat_minor": 5
}
